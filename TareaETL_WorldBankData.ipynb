{
 "cells": [
  {
   "cell_type": "markdown",
   "metadata": {
    "id": "0HaymFVrvEiE"
   },
   "source": [
    "**Tarea World Bank's international - ETL**\n",
    "\n",
    "**Fecha: 14 de enero de 2021**\n",
    "\n",
    "**Autor: Diego Senso González**"
   ]
  },
  {
   "cell_type": "markdown",
   "metadata": {
    "id": "d4rhcMGit-Cx"
   },
   "source": [
    "## 1. The World Bank's international debt data\n",
    "<p>No es que los humanos solo tengamos deudas para administrar nuestras necesidades. Un país también puede endeudarse para administrar su economía. Por ejemplo, el gasto en infraestructura es un ingrediente costoso requerido para que los ciudadanos de un país lleven una vida cómoda. El Banco Mundial es la organización que proporciona deuda a los países.</p>\n",
    "\n",
    "<!-- <p>En este notebook, vamos a analizar los datos de la deuda internacional recopilados por el Banco Mundial. El conjunto de datos contiene información sobre el monto de la deuda (en USD) que deben los países en desarrollo en varias categorías.</p>  -->\n",
    "    "
   ]
  },
  {
   "cell_type": "markdown",
   "metadata": {
    "id": "LfdfJXCvt-C0"
   },
   "source": [
    "\"Disbursements on external debt, long-term (DIS, current US$)\",DT.DIS.DLXF.CD\n",
    "\"Interest payments on external debt, long-term (INT, current US$)\",DT.INT.DLXF.CD\n",
    "\"PPG, bilateral (AMT, current US$)\",DT.AMT.BLAT.CD\n",
    "\"PPG, bilateral (DIS, current US$)\",DT.DIS.BLAT.CD\n",
    "\"PPG, bilateral (INT, current US$)\",DT.INT.BLAT.CD\n",
    "\"PPG, multilateral (AMT, current US$)\",DT.AMT.MLAT.CD\n",
    "\"PPG, multilateral (DIS, current US$)\",DT.DIS.MLAT.CD\n",
    "\"PPG, multilateral (INT, current US$)\",DT.INT.MLAT.CD\n",
    "\"PPG, official creditors (AMT, current US$)\",DT.AMT.OFFT.CD\n",
    "\"PPG, official creditors (DIS, current US$)\",DT.DIS.OFFT.CD\n",
    "\"PPG, official creditors (INT, current US$)\",DT.INT.OFFT.CD\n",
    "\"Principal repayments on external debt, long-term (AMT, current US$)\",DT.AMT.DLXF.CD\n",
    "\"Interest payments on external debt, private nonguaranteed (PNG) (INT, current US$)\",DT.INT.DPNG.CD\n",
    "\"PPG, bonds (AMT, current US$)\",DT.AMT.PBND.CD\n",
    "\"PPG, bonds (INT, current US$)\",DT.INT.PBND.CD\n",
    "\"PPG, commercial banks (AMT, current US$)\",DT.AMT.PCBK.CD\n",
    "\"PPG, commercial banks (DIS, current US$)\",DT.DIS.PCBK.CD\n",
    "\"PPG, commercial banks (INT, current US$)\",DT.INT.PCBK.CD\n",
    "\"PPG, other private creditors (AMT, current US$)\",DT.AMT.PROP.CD\n",
    "\"PPG, other private creditors (DIS, current US$)\",DT.DIS.PROP.CD\n",
    "\"PPG, other private creditors (INT, current US$)\",DT.INT.PROP.CD\n",
    "\"PPG, private creditors (AMT, current US$)\",DT.AMT.PRVT.CD\n",
    "\"PPG, private creditors (DIS, current US$)\",DT.DIS.PRVT.CD\n",
    "\"PPG, private creditors (INT, current US$)\",DT.INT.PRVT.CD\n",
    "\"Principal repayments on external debt, private nonguaranteed (PNG) (AMT, current US$)\",DT.AMT.DPNG.CD"
   ]
  },
  {
   "cell_type": "markdown",
   "metadata": {
    "id": "eKQrZ9WVt-C2"
   },
   "source": [
    "<p>Vamos a encontrar las respuestas a preguntas como:\n",
    "\n",
    "<p>¿Cuál es el monto total de la deuda que deben los países enumerados en el conjunto de datos?\n",
    "<p>¿Qué país posee la cantidad máxima de deuda y cómo se ve esa cantidad?\n",
    "<p>¿Cuál es el monto promedio de la deuda de los países a través de diferentes indicadores de deuda?\n",
    "    \n",
    "Además tenemos otro dataset en el que encontramos información histórica de algunos índices de desarrollo, entre los que se encuentran algunos de deuda como son:"
   ]
  },
  {
   "cell_type": "markdown",
   "metadata": {
    "id": "yKxngmart-C3"
   },
   "source": [
    "Series Name,Series Code\n",
    "\"Birth rate, crude (per 1,000 people)\",SP.DYN.CBRT.IN\n",
    "\n",
    "\"Central government debt, total (current LCU)\",GC.DOD.TOTL.CN\n",
    "\n",
    "\"Central government debt, total (% of GDP)\",GC.DOD.TOTL.GD.ZS"
   ]
  },
  {
   "cell_type": "markdown",
   "metadata": {
    "id": "TQtWk_Abt-C3"
   },
   "source": [
    "#### 1. Inicializar y cargar el contexto spark"
   ]
  },
  {
   "cell_type": "code",
   "execution_count": 1,
   "metadata": {
    "executionInfo": {
     "elapsed": 37035,
     "status": "ok",
     "timestamp": 1610450817062,
     "user": {
      "displayName": "Diego",
      "photoUrl": "https://lh3.googleusercontent.com/a-/AOh14Gh24PkQ_eFYcre9m7PBHGmBbtf8oSp_v7kDim3J7w=s64",
      "userId": "05139930837643071252"
     },
     "user_tz": -60
    },
    "id": "51WOw2vJuaxc"
   },
   "outputs": [],
   "source": [
    "!apt-get install openjdk-8-jdk-headless -qq > /dev/null\n",
    "!wget -q https://www-us.apache.org/dist/spark/spark-2.4.7/spark-2.4.7-bin-hadoop2.7.tgz\n",
    "!tar xf spark-2.4.7-bin-hadoop2.7.tgz #d\n",
    "!pip install -q findspark \n",
    "\n",
    "import os\n",
    "os.environ[\"JAVA_HOME\"] = \"/usr/lib/jvm/java-8-openjdk-amd64\"\n",
    "os.environ[\"SPARK_HOME\"] = \"/content/spark-2.4.7-bin-hadoop2.7\"\n",
    "\n",
    "import findspark\n",
    "findspark.init()\n",
    "from pyspark import SparkContext\n",
    "sc = SparkContext()\n",
    "from pyspark.sql import SparkSession\n",
    "spark = SparkSession.builder.master(\"local[*]\").getOrCreate()"
   ]
  },
  {
   "cell_type": "markdown",
   "metadata": {
    "id": "BqG4g91kFbBl"
   },
   "source": [
    "Cargamos los datasets. Los que nos serán de utilidad serán los dos últimos."
   ]
  },
  {
   "cell_type": "code",
   "execution_count": 2,
   "metadata": {
    "executionInfo": {
     "elapsed": 1816,
     "status": "ok",
     "timestamp": 1610450818893,
     "user": {
      "displayName": "Diego",
      "photoUrl": "https://lh3.googleusercontent.com/a-/AOh14Gh24PkQ_eFYcre9m7PBHGmBbtf8oSp_v7kDim3J7w=s64",
      "userId": "05139930837643071252"
     },
     "user_tz": -60
    },
    "id": "SodT2UWEwZJM"
   },
   "outputs": [],
   "source": [
    "var1920 = sc.textFile(\"explicacion_var1920.csv\")\n",
    "vardeu1920 = sc.textFile(\"explicacion_varDeu1920.csv\")\n",
    "desarrollo = sc.textFile(\"indicadores_desarrollo.csv\")\n",
    "deuda = sc.textFile(\"indicadores_deuda.csv\")"
   ]
  },
  {
   "cell_type": "markdown",
   "metadata": {
    "id": "kP9_A-d1FhdD"
   },
   "source": [
    "Observamos los datos:"
   ]
  },
  {
   "cell_type": "code",
   "execution_count": 3,
   "metadata": {
    "colab": {
     "base_uri": "https://localhost:8080/"
    },
    "executionInfo": {
     "elapsed": 3138,
     "status": "ok",
     "timestamp": 1610450820233,
     "user": {
      "displayName": "Diego",
      "photoUrl": "https://lh3.googleusercontent.com/a-/AOh14Gh24PkQ_eFYcre9m7PBHGmBbtf8oSp_v7kDim3J7w=s64",
      "userId": "05139930837643071252"
     },
     "user_tz": -60
    },
    "id": "BexXuxWLzSDW",
    "outputId": "55a28848-15d8-4fc5-945b-809c5be4c026"
   },
   "outputs": [
    {
     "data": {
      "text/plain": [
       "['country_name,country_code,anho,GC.DOD.TOTL.CN,GC.DOD.TOTL.GD.ZS,SP.DYN.CBRT.IN',\n",
       " 'Albania,ALB,2014 [YR2014],1023040800000,73.3202469198429,12.259',\n",
       " 'Albania,ALB,2015 [YR2015],1145500940000,79.8644448747259,12.197',\n",
       " 'Albania,ALB,2016 [YR2016],1188814490000,80.7355748396923,12.08',\n",
       " 'Australia,AUS,2014 [YR2014],674700000,0.042207528166503,13.2']"
      ]
     },
     "execution_count": 3,
     "metadata": {
      "tags": []
     },
     "output_type": "execute_result"
    }
   ],
   "source": [
    "desarrollo.take(5)"
   ]
  },
  {
   "cell_type": "markdown",
   "metadata": {
    "id": "V3_VkbARFlS0"
   },
   "source": [
    "Eliminamos la primera fila, el encabezado:"
   ]
  },
  {
   "cell_type": "code",
   "execution_count": 4,
   "metadata": {
    "executionInfo": {
     "elapsed": 3137,
     "status": "ok",
     "timestamp": 1610450820235,
     "user": {
      "displayName": "Diego",
      "photoUrl": "https://lh3.googleusercontent.com/a-/AOh14Gh24PkQ_eFYcre9m7PBHGmBbtf8oSp_v7kDim3J7w=s64",
      "userId": "05139930837643071252"
     },
     "user_tz": -60
    },
    "id": "nKTc1U_m1SpI"
   },
   "outputs": [],
   "source": [
    "primera_fila_desarrollo = desarrollo.take(1)[0]\n",
    "desarrollo = desarrollo.filter(lambda x: x != primera_fila_desarrollo)"
   ]
  },
  {
   "cell_type": "markdown",
   "metadata": {
    "id": "R0NfUX-pFoJ4"
   },
   "source": [
    "Separamos los datos de desarrollo por la coma, y observamos cómo se quedan estructurados los datos. Ya hemos eliminado la primera fila, por lo que ya solo quedan los datos de cada país para diferentes años."
   ]
  },
  {
   "cell_type": "code",
   "execution_count": 5,
   "metadata": {
    "colab": {
     "base_uri": "https://localhost:8080/"
    },
    "executionInfo": {
     "elapsed": 3379,
     "status": "ok",
     "timestamp": 1610450820492,
     "user": {
      "displayName": "Diego",
      "photoUrl": "https://lh3.googleusercontent.com/a-/AOh14Gh24PkQ_eFYcre9m7PBHGmBbtf8oSp_v7kDim3J7w=s64",
      "userId": "05139930837643071252"
     },
     "user_tz": -60
    },
    "id": "4VUw6H3Z0RZn",
    "outputId": "328de794-ab8e-4f6d-d349-d3ca88f7b8d2"
   },
   "outputs": [
    {
     "data": {
      "text/plain": [
       "[['Albania',\n",
       "  'ALB',\n",
       "  '2014 [YR2014]',\n",
       "  '1023040800000',\n",
       "  '73.3202469198429',\n",
       "  '12.259'],\n",
       " ['Albania',\n",
       "  'ALB',\n",
       "  '2015 [YR2015]',\n",
       "  '1145500940000',\n",
       "  '79.8644448747259',\n",
       "  '12.197'],\n",
       " ['Albania',\n",
       "  'ALB',\n",
       "  '2016 [YR2016]',\n",
       "  '1188814490000',\n",
       "  '80.7355748396923',\n",
       "  '12.08'],\n",
       " ['Australia',\n",
       "  'AUS',\n",
       "  '2014 [YR2014]',\n",
       "  '674700000',\n",
       "  '0.042207528166503',\n",
       "  '13.2'],\n",
       " ['Australia',\n",
       "  'AUS',\n",
       "  '2015 [YR2015]',\n",
       "  '762718000',\n",
       "  '0.0469480198522591',\n",
       "  '12.9']]"
      ]
     },
     "execution_count": 5,
     "metadata": {
      "tags": []
     },
     "output_type": "execute_result"
    }
   ],
   "source": [
    "desarrollo_new = desarrollo.map(lambda x: x.split(\",\"))\n",
    "desarrollo_new.take(5)"
   ]
  },
  {
   "cell_type": "markdown",
   "metadata": {
    "id": "lYhYe_nGF5JJ"
   },
   "source": [
    "Observamos el otro dataset, el de los indicadores de deuda, y realizamos el mismo proceso que para los otros datos."
   ]
  },
  {
   "cell_type": "code",
   "execution_count": 6,
   "metadata": {
    "colab": {
     "base_uri": "https://localhost:8080/"
    },
    "executionInfo": {
     "elapsed": 3367,
     "status": "ok",
     "timestamp": 1610450820493,
     "user": {
      "displayName": "Diego",
      "photoUrl": "https://lh3.googleusercontent.com/a-/AOh14Gh24PkQ_eFYcre9m7PBHGmBbtf8oSp_v7kDim3J7w=s64",
      "userId": "05139930837643071252"
     },
     "user_tz": -60
    },
    "id": "m-xpm-RAzxVt",
    "outputId": "dde069a5-b22d-4250-d4a1-c6fe489c57f2"
   },
   "outputs": [
    {
     "data": {
      "text/plain": [
       "['country_name;country_code;DT.AMT.BLAT.CD;DT.AMT.DLXF.CD;DT.AMT.DPNG.CD;DT.AMT.MLAT.CD;DT.AMT.OFFT.CD;DT.AMT.PBND.CD;DT.AMT.PCBK.CD;DT.AMT.PROP.CD;DT.AMT.PRVT.CD;DT.DIS.BLAT.CD;DT.DIS.DLXF.CD;DT.DIS.MLAT.CD;DT.DIS.OFFT.CD;DT.DIS.PCBK.CD;DT.DIS.PROP.CD;DT.DIS.PRVT.CD;DT.INT.BLAT.CD;DT.INT.DLXF.CD;DT.INT.DPNG.CD;DT.INT.MLAT.CD;DT.INT.OFFT.CD;DT.INT.PBND.CD;DT.INT.PCBK.CD;DT.INT.PROP.CD;DT.INT.PRVT.CD;',\n",
       " 'Afghanistan;AFG;61739336.9;100847181.9;;39107845;100847181.9;;;;;49114729.4;72894453.7;23779724.3;72894453.7;;;;39903620.1;53239440.1;;13335820;53239440.1;;;;;',\n",
       " 'Albania;ALB;54250280.6;790248675.2;514185620;182197616.7;236447897.3;0;39445139.5;170018.4;39615157.9;76050616.1;317194512.5;234321242.3;310371858.4;4542664.9;2279989.2;6822654.1;13847333.6;165602386.9;87884000;28101536.1;41948869.7;31030688.2;4618504.3;120324.7;35769517.2;',\n",
       " 'Algeria;DZA;95188724.6;171185188.1;75420000;0;95188724.6;;576463.5;0;576463.5;10320772.2;10320772.2;;10320772.2;;;;7680627.6;19031728.7;3220000;8094779;15775406.6;;13192.3;23129.8;36322.1;',\n",
       " 'Angola;AGO;8473824016;11067045628;;124688691.9;8598512708;1.00E+09;1125088720;343444200;2468532920;8838256901;10924018093;178989598.2;9017246499;1906771594;;1906771594;1005053965;1798550446;;47038476.1;1052092441;7.00E+07;580902004.3;95556000;746458004.3;']"
      ]
     },
     "execution_count": 6,
     "metadata": {
      "tags": []
     },
     "output_type": "execute_result"
    }
   ],
   "source": [
    "deuda.take(5)"
   ]
  },
  {
   "cell_type": "markdown",
   "metadata": {
    "id": "4x7mLQE9GCYb"
   },
   "source": [
    "Eliminamos el encabezado:"
   ]
  },
  {
   "cell_type": "code",
   "execution_count": 7,
   "metadata": {
    "executionInfo": {
     "elapsed": 3612,
     "status": "ok",
     "timestamp": 1610450820743,
     "user": {
      "displayName": "Diego",
      "photoUrl": "https://lh3.googleusercontent.com/a-/AOh14Gh24PkQ_eFYcre9m7PBHGmBbtf8oSp_v7kDim3J7w=s64",
      "userId": "05139930837643071252"
     },
     "user_tz": -60
    },
    "id": "lqa78zvu17-F"
   },
   "outputs": [],
   "source": [
    "primera_fila_deuda = deuda.take(1)[0]\n",
    "deuda = deuda.filter(lambda x: x != primera_fila_deuda)"
   ]
  },
  {
   "cell_type": "markdown",
   "metadata": {
    "id": "7OzP_rtVGG1U"
   },
   "source": [
    "Separamos los campos, esta vez con punto y coma. Observamos que este dataset cuenta con una observación para cada país que recoge numerosos datos relativos a indicadores de deuda."
   ]
  },
  {
   "cell_type": "code",
   "execution_count": 8,
   "metadata": {
    "colab": {
     "base_uri": "https://localhost:8080/"
    },
    "executionInfo": {
     "elapsed": 3599,
     "status": "ok",
     "timestamp": 1610450820743,
     "user": {
      "displayName": "Diego",
      "photoUrl": "https://lh3.googleusercontent.com/a-/AOh14Gh24PkQ_eFYcre9m7PBHGmBbtf8oSp_v7kDim3J7w=s64",
      "userId": "05139930837643071252"
     },
     "user_tz": -60
    },
    "id": "smGtSfuj050D",
    "outputId": "9b3fac3c-e79b-4cb8-cdf8-87f81c89a1a1"
   },
   "outputs": [
    {
     "data": {
      "text/plain": [
       "[['Afghanistan',\n",
       "  'AFG',\n",
       "  '61739336.9',\n",
       "  '100847181.9',\n",
       "  '',\n",
       "  '39107845',\n",
       "  '100847181.9',\n",
       "  '',\n",
       "  '',\n",
       "  '',\n",
       "  '',\n",
       "  '49114729.4',\n",
       "  '72894453.7',\n",
       "  '23779724.3',\n",
       "  '72894453.7',\n",
       "  '',\n",
       "  '',\n",
       "  '',\n",
       "  '39903620.1',\n",
       "  '53239440.1',\n",
       "  '',\n",
       "  '13335820',\n",
       "  '53239440.1',\n",
       "  '',\n",
       "  '',\n",
       "  '',\n",
       "  '',\n",
       "  ''],\n",
       " ['Albania',\n",
       "  'ALB',\n",
       "  '54250280.6',\n",
       "  '790248675.2',\n",
       "  '514185620',\n",
       "  '182197616.7',\n",
       "  '236447897.3',\n",
       "  '0',\n",
       "  '39445139.5',\n",
       "  '170018.4',\n",
       "  '39615157.9',\n",
       "  '76050616.1',\n",
       "  '317194512.5',\n",
       "  '234321242.3',\n",
       "  '310371858.4',\n",
       "  '4542664.9',\n",
       "  '2279989.2',\n",
       "  '6822654.1',\n",
       "  '13847333.6',\n",
       "  '165602386.9',\n",
       "  '87884000',\n",
       "  '28101536.1',\n",
       "  '41948869.7',\n",
       "  '31030688.2',\n",
       "  '4618504.3',\n",
       "  '120324.7',\n",
       "  '35769517.2',\n",
       "  '']]"
      ]
     },
     "execution_count": 8,
     "metadata": {
      "tags": []
     },
     "output_type": "execute_result"
    }
   ],
   "source": [
    "deuda_new = deuda.map(lambda x: x.split(\";\"))\n",
    "deuda_new.take(2)"
   ]
  },
  {
   "cell_type": "markdown",
   "metadata": {
    "id": "BVyNFIUBt-C4"
   },
   "source": [
    "##### 2. Número de países distintos en cada dataset. Coinciden?"
   ]
  },
  {
   "cell_type": "markdown",
   "metadata": {
    "id": "dt5qhWB1GU2L"
   },
   "source": [
    "Seleccionamos la columna que contiene el nombre de los países en ambos datasets."
   ]
  },
  {
   "cell_type": "code",
   "execution_count": 9,
   "metadata": {
    "executionInfo": {
     "elapsed": 3597,
     "status": "ok",
     "timestamp": 1610450820744,
     "user": {
      "displayName": "Diego",
      "photoUrl": "https://lh3.googleusercontent.com/a-/AOh14Gh24PkQ_eFYcre9m7PBHGmBbtf8oSp_v7kDim3J7w=s64",
      "userId": "05139930837643071252"
     },
     "user_tz": -60
    },
    "id": "H9l0Ecd52Q03"
   },
   "outputs": [],
   "source": [
    "paises_desarrollo = desarrollo_new.map(lambda x: (x[0]))\n",
    "paises_deuda = deuda_new.map(lambda x: (x[0]))"
   ]
  },
  {
   "cell_type": "markdown",
   "metadata": {
    "id": "Zg-ziMr9GZyS"
   },
   "source": [
    "Gracias a la función 'distinct' escogemos los valores únicos, y con 'count' los contamos."
   ]
  },
  {
   "cell_type": "code",
   "execution_count": 10,
   "metadata": {
    "colab": {
     "base_uri": "https://localhost:8080/"
    },
    "executionInfo": {
     "elapsed": 4469,
     "status": "ok",
     "timestamp": 1610450821629,
     "user": {
      "displayName": "Diego",
      "photoUrl": "https://lh3.googleusercontent.com/a-/AOh14Gh24PkQ_eFYcre9m7PBHGmBbtf8oSp_v7kDim3J7w=s64",
      "userId": "05139930837643071252"
     },
     "user_tz": -60
    },
    "id": "tGjXC1so4H37",
    "outputId": "682263b4-4fb8-4bc7-ab39-711c500a151d"
   },
   "outputs": [
    {
     "data": {
      "text/plain": [
       "51"
      ]
     },
     "execution_count": 10,
     "metadata": {
      "tags": []
     },
     "output_type": "execute_result"
    }
   ],
   "source": [
    "paises_desarrollo.distinct().count()"
   ]
  },
  {
   "cell_type": "code",
   "execution_count": 11,
   "metadata": {
    "colab": {
     "base_uri": "https://localhost:8080/"
    },
    "executionInfo": {
     "elapsed": 4715,
     "status": "ok",
     "timestamp": 1610450821888,
     "user": {
      "displayName": "Diego",
      "photoUrl": "https://lh3.googleusercontent.com/a-/AOh14Gh24PkQ_eFYcre9m7PBHGmBbtf8oSp_v7kDim3J7w=s64",
      "userId": "05139930837643071252"
     },
     "user_tz": -60
    },
    "id": "mo4S_1Ml7QqM",
    "outputId": "03f526df-a487-4088-b02e-8e5cce0efa45"
   },
   "outputs": [
    {
     "data": {
      "text/plain": [
       "123"
      ]
     },
     "execution_count": 11,
     "metadata": {
      "tags": []
     },
     "output_type": "execute_result"
    }
   ],
   "source": [
    "paises_deuda.distinct().count()"
   ]
  },
  {
   "cell_type": "markdown",
   "metadata": {
    "id": "43plZXXB8f8z"
   },
   "source": [
    "A la vista de los resultados, el número de países distintos no coincide en las tablas. Mientras que en la de los indicadores de desarrollo son 51, en la de los indicadores de deuda el número asciende hasta 123."
   ]
  },
  {
   "cell_type": "markdown",
   "metadata": {
    "id": "tKP-zyuvt-C4"
   },
   "source": [
    "##### 3. Total de deuda contraida por cada pais: total amount of debt (in USD) DT.AMT.MLAT.CD"
   ]
  },
  {
   "cell_type": "markdown",
   "metadata": {
    "id": "cKbjaCa8GioE"
   },
   "source": [
    "Seleccionamos la columna donde se recoge el nombre del país y la columna donde se encuentra el indicador solicitado. Observamos los 10 primeros resultados."
   ]
  },
  {
   "cell_type": "code",
   "execution_count": 12,
   "metadata": {
    "colab": {
     "base_uri": "https://localhost:8080/"
    },
    "executionInfo": {
     "elapsed": 4702,
     "status": "ok",
     "timestamp": 1610450821889,
     "user": {
      "displayName": "Diego",
      "photoUrl": "https://lh3.googleusercontent.com/a-/AOh14Gh24PkQ_eFYcre9m7PBHGmBbtf8oSp_v7kDim3J7w=s64",
      "userId": "05139930837643071252"
     },
     "user_tz": -60
    },
    "id": "R9SfJXpo9x9M",
    "outputId": "40dc2be8-6951-4d6f-8970-6411c2e9139b"
   },
   "outputs": [
    {
     "data": {
      "text/plain": [
       "[('Afghanistan', '39107845'),\n",
       " ('Albania', '182197616.7'),\n",
       " ('Algeria', '0'),\n",
       " ('Angola', '124688691.9'),\n",
       " ('Armenia', '94331207.1'),\n",
       " ('Azerbaijan', '513623656.5'),\n",
       " ('Bangladesh', '1039564683'),\n",
       " ('Belarus', '595438826'),\n",
       " ('Belize', '29683326.5'),\n",
       " ('Benin', '91631639.5')]"
      ]
     },
     "execution_count": 12,
     "metadata": {
      "tags": []
     },
     "output_type": "execute_result"
    }
   ],
   "source": [
    "deuda_contraida = deuda_new.map(lambda x: (x[0], x[5]))\n",
    "deuda_contraida.take(10)"
   ]
  },
  {
   "cell_type": "markdown",
   "metadata": {
    "id": "zUDEOMnCt-C4"
   },
   "source": [
    "##### 4. Media de los indicadores de deuda (tabla uno): DT.AMT.BLAT.CD, DT.DIS.BLAT.CD, DT.INT.BLAT.CD"
   ]
  },
  {
   "cell_type": "markdown",
   "metadata": {
    "id": "c9S0NTYVcjbG"
   },
   "source": [
    "Seleccionamos los indicadores que se solicitan en el enunciado, siguiendo el número de sus columnas. Vemos los resultados de una de ellas."
   ]
  },
  {
   "cell_type": "code",
   "execution_count": 83,
   "metadata": {
    "executionInfo": {
     "elapsed": 589,
     "status": "ok",
     "timestamp": 1610452564569,
     "user": {
      "displayName": "Diego",
      "photoUrl": "https://lh3.googleusercontent.com/a-/AOh14Gh24PkQ_eFYcre9m7PBHGmBbtf8oSp_v7kDim3J7w=s64",
      "userId": "05139930837643071252"
     },
     "user_tz": -60
    },
    "id": "HRmVKdp8_GBb"
   },
   "outputs": [],
   "source": [
    "deuda_ind1 = deuda_new.map(lambda x: (x[2]))\n",
    "deuda_ind2 = deuda_new.map(lambda x: (x[11]))\n",
    "deuda_ind3 = deuda_new.map(lambda x: (x[18]))"
   ]
  },
  {
   "cell_type": "code",
   "execution_count": 84,
   "metadata": {
    "colab": {
     "base_uri": "https://localhost:8080/"
    },
    "executionInfo": {
     "elapsed": 596,
     "status": "ok",
     "timestamp": 1610452567183,
     "user": {
      "displayName": "Diego",
      "photoUrl": "https://lh3.googleusercontent.com/a-/AOh14Gh24PkQ_eFYcre9m7PBHGmBbtf8oSp_v7kDim3J7w=s64",
      "userId": "05139930837643071252"
     },
     "user_tz": -60
    },
    "id": "EnAT_yYD7SJG",
    "outputId": "3a231624-ef90-4252-8ce1-97254dab9c77"
   },
   "outputs": [
    {
     "data": {
      "text/plain": [
       "['61739336.9', '54250280.6', '95188724.6', '8473824016', '68968314.7']"
      ]
     },
     "execution_count": 84,
     "metadata": {
      "tags": []
     },
     "output_type": "execute_result"
    }
   ],
   "source": [
    "deuda_ind1.take(5)"
   ]
  },
  {
   "cell_type": "markdown",
   "metadata": {
    "id": "OT3qVhM5cst8"
   },
   "source": [
    "Ahora seleccionamos aquellos que son dígitos, y los convertimos a tipo float al tener decimales incluidos."
   ]
  },
  {
   "cell_type": "code",
   "execution_count": 85,
   "metadata": {
    "executionInfo": {
     "elapsed": 611,
     "status": "ok",
     "timestamp": 1610452569189,
     "user": {
      "displayName": "Diego",
      "photoUrl": "https://lh3.googleusercontent.com/a-/AOh14Gh24PkQ_eFYcre9m7PBHGmBbtf8oSp_v7kDim3J7w=s64",
      "userId": "05139930837643071252"
     },
     "user_tz": -60
    },
    "id": "LKQYTTeS-jFx"
   },
   "outputs": [],
   "source": [
    "deuda_ind1=deuda_ind1.filter(lambda x_int: x_int.isdigit())\n",
    "deuda_ind1=deuda_ind1.map(lambda x: float(x))\n",
    "\n",
    "deuda_ind2=deuda_ind2.filter(lambda x_int: x_int.isdigit())\n",
    "deuda_ind2=deuda_ind2.map(lambda x: float(x))\n",
    "\n",
    "deuda_ind3=deuda_ind3.filter(lambda x_int: x_int.isdigit())\n",
    "deuda_ind3=deuda_ind3.map(lambda x: float(x))"
   ]
  },
  {
   "cell_type": "markdown",
   "metadata": {
    "id": "g8XePMYPc0bm"
   },
   "source": [
    "Calculamos la media para cada uno de los indicadores, y se nos muestra el resultado:"
   ]
  },
  {
   "cell_type": "code",
   "execution_count": 86,
   "metadata": {
    "colab": {
     "base_uri": "https://localhost:8080/"
    },
    "executionInfo": {
     "elapsed": 813,
     "status": "ok",
     "timestamp": 1610452571073,
     "user": {
      "displayName": "Diego",
      "photoUrl": "https://lh3.googleusercontent.com/a-/AOh14Gh24PkQ_eFYcre9m7PBHGmBbtf8oSp_v7kDim3J7w=s64",
      "userId": "05139930837643071252"
     },
     "user_tz": -60
    },
    "id": "jGPmhiWZALw-",
    "outputId": "73da5e91-4680-4fe7-c223-3e52e1b4702b"
   },
   "outputs": [
    {
     "data": {
      "text/plain": [
       "(2890222062.565217, 4365716780.481482, 581647537.8)"
      ]
     },
     "execution_count": 86,
     "metadata": {
      "tags": []
     },
     "output_type": "execute_result"
    }
   ],
   "source": [
    "deuda_ind1.mean(), deuda_ind2.mean(), deuda_ind3.mean()"
   ]
  },
  {
   "cell_type": "markdown",
   "metadata": {
    "id": "qF87EhNft-C4"
   },
   "source": [
    "##### 5. Los 20 paises con DT.AMT.DLXF.CD más alto"
   ]
  },
  {
   "cell_type": "markdown",
   "metadata": {
    "id": "MEKbBkg4C7fF"
   },
   "source": [
    "Para conseguirlos, se extrae el indicador solicitado en formato float, además de la columna del nombre del país. A continuación, se muestran los 20 datos más elevados de la primera de las dos columnas gracias a la función 'takeOrdered'."
   ]
  },
  {
   "cell_type": "code",
   "execution_count": 17,
   "metadata": {
    "colab": {
     "base_uri": "https://localhost:8080/"
    },
    "executionInfo": {
     "elapsed": 5324,
     "status": "ok",
     "timestamp": 1610450822556,
     "user": {
      "displayName": "Diego",
      "photoUrl": "https://lh3.googleusercontent.com/a-/AOh14Gh24PkQ_eFYcre9m7PBHGmBbtf8oSp_v7kDim3J7w=s64",
      "userId": "05139930837643071252"
     },
     "user_tz": -60
    },
    "id": "T2FD4KklBZxE",
    "outputId": "4fe9121a-fec8-46c1-9e88-924a02a0170e"
   },
   "outputs": [
    {
     "data": {
      "text/plain": [
       "[(96218620836.0, 'China'),\n",
       " (90041840304.0, 'Brazil'),\n",
       " (66589761834.0, 'Russian Federation'),\n",
       " (51555031006.0, 'Turkey'),\n",
       " (48756295898.0, 'South Asia'),\n",
       " (31923507001.0, 'India'),\n",
       " (30916112654.0, 'Indonesia'),\n",
       " (27482093686.0, 'Kazakhstan'),\n",
       " (25218503927.0, 'Mexico'),\n",
       " (25197029299.0, 'Least developed countries: UN classification'),\n",
       " (20483289208.0, 'IDA only'),\n",
       " (14013783350.0, 'Romania'),\n",
       " (11985674439.0, 'Colombia'),\n",
       " (11067045628.0, 'Angola'),\n",
       " (10404814960.0, 'Cameroon'),\n",
       " (9506919670.0, 'Lebanon'),\n",
       " (9474257552.0, 'South Africa'),\n",
       " (8873505909.0, 'Vietnam'),\n",
       " (8336013891.0, 'Pakistan'),\n",
       " (8148995626.0, 'Ukraine')]"
      ]
     },
     "execution_count": 17,
     "metadata": {
      "tags": []
     },
     "output_type": "execute_result"
    }
   ],
   "source": [
    "deuda_alto = deuda_new.map(lambda x: (float(x[3]), x[0]))\n",
    "deuda_alto.takeOrdered(20, key = lambda x: -x[0])"
   ]
  },
  {
   "cell_type": "markdown",
   "metadata": {
    "id": "2RiRgFyPt-C5"
   },
   "source": [
    "##### 6. Pais con los datos informados todos los años."
   ]
  },
  {
   "cell_type": "markdown",
   "metadata": {
    "id": "_LOpMfCjFGxM"
   },
   "source": [
    "El cálculo se va a realizar sobre el dataset de indicadores de desarrollo, ya que es el que contiene datos de los países para diferentes años. Se selecciona la columna del país y añade un valor de 1 por cada año registrado. Después, un filtro para que si los 4 años están completos, se quede con ese país."
   ]
  },
  {
   "cell_type": "code",
   "execution_count": 89,
   "metadata": {
    "colab": {
     "base_uri": "https://localhost:8080/"
    },
    "executionInfo": {
     "elapsed": 854,
     "status": "ok",
     "timestamp": 1610453308483,
     "user": {
      "displayName": "Diego",
      "photoUrl": "https://lh3.googleusercontent.com/a-/AOh14Gh24PkQ_eFYcre9m7PBHGmBbtf8oSp_v7kDim3J7w=s64",
      "userId": "05139930837643071252"
     },
     "user_tz": -60
    },
    "id": "785K1-D6DU8r",
    "outputId": "286fa49a-b400-45bf-f235-c5328a433867"
   },
   "outputs": [
    {
     "data": {
      "text/plain": [
       "[('Malawi', 4)]"
      ]
     },
     "execution_count": 89,
     "metadata": {
      "tags": []
     },
     "output_type": "execute_result"
    }
   ],
   "source": [
    "paises_completo = desarrollo_new.map(lambda x: (x[0], 1)).reduceByKey(lambda x,y: x+y)\n",
    "paises_completo = paises_completo.filter(lambda x: x[1] == 4)\n",
    "paises_completo.take(5)"
   ]
  },
  {
   "cell_type": "markdown",
   "metadata": {
    "id": "WeoVgO-DEdLh"
   },
   "source": [
    "Como se puede observar, el único país que ha informado todos los años ha sido Malawi."
   ]
  },
  {
   "cell_type": "markdown",
   "metadata": {
    "id": "pC77a_Nnt-C5"
   },
   "source": [
    "##### 7. Media anual de los distintos indicadores de desarrollo"
   ]
  },
  {
   "cell_type": "markdown",
   "metadata": {
    "id": "_X6Y0NSVdffB"
   },
   "source": [
    "En cada operación se ha procedido a filtrar por año, luego a seleccionar el dato en cuestión. Después se han filtrado aquellos datos que son dígitos, para luego convertirlos a tipo float. Por último, se ha calculado la media para cada indicador y año."
   ]
  },
  {
   "cell_type": "markdown",
   "metadata": {
    "id": "6k5nx2J6K-EW"
   },
   "source": [
    "Medias anuales (2014, 2015, 2016) para la variable 'GC.DOD.TOTL.CN'."
   ]
  },
  {
   "cell_type": "code",
   "execution_count": 19,
   "metadata": {
    "colab": {
     "base_uri": "https://localhost:8080/"
    },
    "executionInfo": {
     "elapsed": 6470,
     "status": "ok",
     "timestamp": 1610450823730,
     "user": {
      "displayName": "Diego",
      "photoUrl": "https://lh3.googleusercontent.com/a-/AOh14Gh24PkQ_eFYcre9m7PBHGmBbtf8oSp_v7kDim3J7w=s64",
      "userId": "05139930837643071252"
     },
     "user_tz": -60
    },
    "id": "k6Dmfh_aI3tQ",
    "outputId": "6af2d2f5-1a8a-445f-c54e-a3fd4f001b23"
   },
   "outputs": [
    {
     "data": {
      "text/plain": [
       "116610529707695.64"
      ]
     },
     "execution_count": 19,
     "metadata": {
      "tags": []
     },
     "output_type": "execute_result"
    }
   ],
   "source": [
    "desarrollo_2014 = desarrollo_new.filter(lambda x: x[2] == '2014 [YR2014]')\n",
    "desarrollo_2014 = desarrollo_2014.map(lambda x: x[3])\n",
    "desarrollo_2014=desarrollo_2014.filter(lambda x_int: x_int.isdigit())\n",
    "desarrollo_2014=desarrollo_2014.map(lambda x: float(x))\n",
    "desarrollo_2014.mean()"
   ]
  },
  {
   "cell_type": "code",
   "execution_count": 20,
   "metadata": {
    "colab": {
     "base_uri": "https://localhost:8080/"
    },
    "executionInfo": {
     "elapsed": 6686,
     "status": "ok",
     "timestamp": 1610450823961,
     "user": {
      "displayName": "Diego",
      "photoUrl": "https://lh3.googleusercontent.com/a-/AOh14Gh24PkQ_eFYcre9m7PBHGmBbtf8oSp_v7kDim3J7w=s64",
      "userId": "05139930837643071252"
     },
     "user_tz": -60
    },
    "id": "_i4MYAlIJ7b8",
    "outputId": "35f2ccd6-053e-4208-9d7f-75cbf1a863ee"
   },
   "outputs": [
    {
     "data": {
      "text/plain": [
       "184827281799554.75"
      ]
     },
     "execution_count": 20,
     "metadata": {
      "tags": []
     },
     "output_type": "execute_result"
    }
   ],
   "source": [
    "desarrollo_2015 = desarrollo_new.filter(lambda x: x[2] == '2015 [YR2015]')\n",
    "desarrollo_2015 = desarrollo_2015.map(lambda x: x[3])\n",
    "desarrollo_2015=desarrollo_2015.filter(lambda x_int: x_int.isdigit())\n",
    "desarrollo_2015=desarrollo_2015.map(lambda x: float(x))\n",
    "desarrollo_2015.mean()"
   ]
  },
  {
   "cell_type": "code",
   "execution_count": 21,
   "metadata": {
    "colab": {
     "base_uri": "https://localhost:8080/"
    },
    "executionInfo": {
     "elapsed": 6948,
     "status": "ok",
     "timestamp": 1610450824237,
     "user": {
      "displayName": "Diego",
      "photoUrl": "https://lh3.googleusercontent.com/a-/AOh14Gh24PkQ_eFYcre9m7PBHGmBbtf8oSp_v7kDim3J7w=s64",
      "userId": "05139930837643071252"
     },
     "user_tz": -60
    },
    "id": "63J4ribIJ7gG",
    "outputId": "d1cbaa9f-6e59-4cc6-dd60-92339433f5c1"
   },
   "outputs": [
    {
     "data": {
      "text/plain": [
       "274875240137558.72"
      ]
     },
     "execution_count": 21,
     "metadata": {
      "tags": []
     },
     "output_type": "execute_result"
    }
   ],
   "source": [
    "desarrollo_2016 = desarrollo_new.filter(lambda x: x[2] == '2016 [YR2016]')\n",
    "desarrollo_2016 = desarrollo_2016.map(lambda x: x[3])\n",
    "desarrollo_2016=desarrollo_2016.filter(lambda x_int: x_int.isdigit())\n",
    "desarrollo_2016=desarrollo_2016.map(lambda x: float(x))\n",
    "desarrollo_2016.mean()"
   ]
  },
  {
   "cell_type": "markdown",
   "metadata": {
    "id": "Id35l3a1LUHy"
   },
   "source": [
    "Medias anuales (2014, 2015, 2016) para la variable 'GC.DOD.TOTL.GD.ZS'."
   ]
  },
  {
   "cell_type": "code",
   "execution_count": 22,
   "metadata": {
    "colab": {
     "base_uri": "https://localhost:8080/"
    },
    "executionInfo": {
     "elapsed": 6936,
     "status": "ok",
     "timestamp": 1610450824238,
     "user": {
      "displayName": "Diego",
      "photoUrl": "https://lh3.googleusercontent.com/a-/AOh14Gh24PkQ_eFYcre9m7PBHGmBbtf8oSp_v7kDim3J7w=s64",
      "userId": "05139930837643071252"
     },
     "user_tz": -60
    },
    "id": "6d8hvG4RKKxs",
    "outputId": "80228e9f-bc63-4599-9ad0-81d5d6496122"
   },
   "outputs": [
    {
     "data": {
      "text/plain": [
       "58.15214676864467"
      ]
     },
     "execution_count": 22,
     "metadata": {
      "tags": []
     },
     "output_type": "execute_result"
    }
   ],
   "source": [
    "desarrollo_2014 = desarrollo_new.filter(lambda x: x[2] == '2014 [YR2014]')\n",
    "desarrollo_2014 = desarrollo_2014.map(lambda x: x[4])\n",
    "desarrollo_2014=desarrollo_2014.map(lambda x: float(x))\n",
    "desarrollo_2014.mean()"
   ]
  },
  {
   "cell_type": "code",
   "execution_count": 23,
   "metadata": {
    "colab": {
     "base_uri": "https://localhost:8080/"
    },
    "executionInfo": {
     "elapsed": 7260,
     "status": "ok",
     "timestamp": 1610450824575,
     "user": {
      "displayName": "Diego",
      "photoUrl": "https://lh3.googleusercontent.com/a-/AOh14Gh24PkQ_eFYcre9m7PBHGmBbtf8oSp_v7kDim3J7w=s64",
      "userId": "05139930837643071252"
     },
     "user_tz": -60
    },
    "id": "VH4rlwwZKK2Q",
    "outputId": "c19917c8-2079-401c-a7b0-278324291a0f"
   },
   "outputs": [
    {
     "data": {
      "text/plain": [
       "59.76292583345264"
      ]
     },
     "execution_count": 23,
     "metadata": {
      "tags": []
     },
     "output_type": "execute_result"
    }
   ],
   "source": [
    "desarrollo_2015 = desarrollo_new.filter(lambda x: x[2] == '2015 [YR2015]')\n",
    "desarrollo_2015 = desarrollo_2015.map(lambda x: x[4])\n",
    "desarrollo_2015=desarrollo_2015.map(lambda x: float(x))\n",
    "desarrollo_2015.mean()"
   ]
  },
  {
   "cell_type": "code",
   "execution_count": 24,
   "metadata": {
    "colab": {
     "base_uri": "https://localhost:8080/"
    },
    "executionInfo": {
     "elapsed": 7248,
     "status": "ok",
     "timestamp": 1610450824576,
     "user": {
      "displayName": "Diego",
      "photoUrl": "https://lh3.googleusercontent.com/a-/AOh14Gh24PkQ_eFYcre9m7PBHGmBbtf8oSp_v7kDim3J7w=s64",
      "userId": "05139930837643071252"
     },
     "user_tz": -60
    },
    "id": "yliyl6vbKK6d",
    "outputId": "31070a9e-e377-42da-e8c5-fca104f38b77"
   },
   "outputs": [
    {
     "data": {
      "text/plain": [
       "60.44188301621869"
      ]
     },
     "execution_count": 24,
     "metadata": {
      "tags": []
     },
     "output_type": "execute_result"
    }
   ],
   "source": [
    "desarrollo_2016 = desarrollo_new.filter(lambda x: x[2] == '2016 [YR2016]')\n",
    "desarrollo_2016 = desarrollo_2016.map(lambda x: x[4])\n",
    "desarrollo_2016=desarrollo_2016.map(lambda x: float(x))\n",
    "desarrollo_2016.mean()"
   ]
  },
  {
   "cell_type": "markdown",
   "metadata": {
    "id": "FOylmHxOLwPN"
   },
   "source": [
    "Medias anuales (2014, 2015, 2016) para la variable 'SP.DYN.CBRT.IN'."
   ]
  },
  {
   "cell_type": "code",
   "execution_count": 25,
   "metadata": {
    "colab": {
     "base_uri": "https://localhost:8080/"
    },
    "executionInfo": {
     "elapsed": 7534,
     "status": "ok",
     "timestamp": 1610450824873,
     "user": {
      "displayName": "Diego",
      "photoUrl": "https://lh3.googleusercontent.com/a-/AOh14Gh24PkQ_eFYcre9m7PBHGmBbtf8oSp_v7kDim3J7w=s64",
      "userId": "05139930837643071252"
     },
     "user_tz": -60
    },
    "id": "Rqq2YqrCL2JI",
    "outputId": "45164556-ee7b-40f6-a5b6-abde06cd6652"
   },
   "outputs": [
    {
     "data": {
      "text/plain": [
       "17.719702127659573"
      ]
     },
     "execution_count": 25,
     "metadata": {
      "tags": []
     },
     "output_type": "execute_result"
    }
   ],
   "source": [
    "desarrollo_2014 = desarrollo_new.filter(lambda x: x[2] == '2014 [YR2014]')\n",
    "desarrollo_2014 = desarrollo_2014.map(lambda x: x[5])\n",
    "desarrollo_2014=desarrollo_2014.map(lambda x: float(x))\n",
    "desarrollo_2014.mean()"
   ]
  },
  {
   "cell_type": "code",
   "execution_count": 26,
   "metadata": {
    "colab": {
     "base_uri": "https://localhost:8080/"
    },
    "executionInfo": {
     "elapsed": 7418,
     "status": "ok",
     "timestamp": 1610450824874,
     "user": {
      "displayName": "Diego",
      "photoUrl": "https://lh3.googleusercontent.com/a-/AOh14Gh24PkQ_eFYcre9m7PBHGmBbtf8oSp_v7kDim3J7w=s64",
      "userId": "05139930837643071252"
     },
     "user_tz": -60
    },
    "id": "Q1xmv0VJL2Md",
    "outputId": "30cee05a-d06d-4b9e-8e18-e874b2d64204"
   },
   "outputs": [
    {
     "data": {
      "text/plain": [
       "16.904780487804878"
      ]
     },
     "execution_count": 26,
     "metadata": {
      "tags": []
     },
     "output_type": "execute_result"
    }
   ],
   "source": [
    "desarrollo_2015 = desarrollo_new.filter(lambda x: x[2] == '2015 [YR2015]')\n",
    "desarrollo_2015 = desarrollo_2015.map(lambda x: x[5])\n",
    "desarrollo_2015=desarrollo_2015.map(lambda x: float(x))\n",
    "desarrollo_2015.mean()"
   ]
  },
  {
   "cell_type": "code",
   "execution_count": 27,
   "metadata": {
    "colab": {
     "base_uri": "https://localhost:8080/"
    },
    "executionInfo": {
     "elapsed": 6868,
     "status": "ok",
     "timestamp": 1610450825121,
     "user": {
      "displayName": "Diego",
      "photoUrl": "https://lh3.googleusercontent.com/a-/AOh14Gh24PkQ_eFYcre9m7PBHGmBbtf8oSp_v7kDim3J7w=s64",
      "userId": "05139930837643071252"
     },
     "user_tz": -60
    },
    "id": "GCMySrxjL2Qr",
    "outputId": "cee882a2-4d9e-4c81-c713-cd08c194acda"
   },
   "outputs": [
    {
     "data": {
      "text/plain": [
       "16.236916666666666"
      ]
     },
     "execution_count": 27,
     "metadata": {
      "tags": []
     },
     "output_type": "execute_result"
    }
   ],
   "source": [
    "desarrollo_2016 = desarrollo_new.filter(lambda x: x[2] == '2016 [YR2016]')\n",
    "desarrollo_2016 = desarrollo_2016.map(lambda x: x[5])\n",
    "desarrollo_2016=desarrollo_2016.map(lambda x: float(x))\n",
    "desarrollo_2016.mean()"
   ]
  },
  {
   "cell_type": "markdown",
   "metadata": {
    "id": "OM72lS_Ft-C5"
   },
   "source": [
    "##### 8. Podrías decirme el total de deuda acumulada DT.AMT.MLAT.CD por los 10 países con un valor en media menor de SP.DYN.CBRT.IN"
   ]
  },
  {
   "cell_type": "markdown",
   "metadata": {
    "id": "3e4LTNfjd4iW"
   },
   "source": [
    "En primer lugar había que localizar los diez países con menor tasa de natalidad (SP.DYN.CBRT.IN), dato que se localiza en el dataset de desarrollo. Se ha seleccionado el año 2016 por ser el último del que se tienen datos de una cantidad grande de países. Después se han seleccionado la columna con los datos (en formato float) y la de los nombres del país. Por último, se han ordenado y mostrado los 10 con un indicador más pequeño. Esos países son los que cuentan con una tasa de natalidad más baja, por lo que serán los que se proceda a buscar en el dataset de deuda."
   ]
  },
  {
   "cell_type": "code",
   "execution_count": 36,
   "metadata": {
    "colab": {
     "base_uri": "https://localhost:8080/"
    },
    "executionInfo": {
     "elapsed": 743,
     "status": "ok",
     "timestamp": 1610450972739,
     "user": {
      "displayName": "Diego",
      "photoUrl": "https://lh3.googleusercontent.com/a-/AOh14Gh24PkQ_eFYcre9m7PBHGmBbtf8oSp_v7kDim3J7w=s64",
      "userId": "05139930837643071252"
     },
     "user_tz": -60
    },
    "id": "ZnjUAdbEODw6",
    "outputId": "3639ba09-37cc-4d02-c589-85c4a09f68ef"
   },
   "outputs": [
    {
     "data": {
      "text/plain": [
       "[(7.8, 'Japan'),\n",
       " (7.9, 'San Marino'),\n",
       " (8.8, 'Spain'),\n",
       " (9.4, 'Singapore'),\n",
       " (9.7, 'Hungary'),\n",
       " (10.3, 'Ukraine'),\n",
       " (10.445, 'Moldova'),\n",
       " (10.5, 'Switzerland'),\n",
       " (11.8, 'United Kingdom'),\n",
       " (12.0, 'Palau')]"
      ]
     },
     "execution_count": 36,
     "metadata": {
      "tags": []
     },
     "output_type": "execute_result"
    }
   ],
   "source": [
    "año_2016 = desarrollo_new.filter(lambda x: x[2] == '2016 [YR2016]')\n",
    "natalidad_bajo = año_2016.map(lambda x: (float(x[5]), x[0]))\n",
    "natalidad_bajo.takeOrdered(10, key = lambda x: x[0])"
   ]
  },
  {
   "cell_type": "markdown",
   "metadata": {
    "id": "Vso61_ptehOB"
   },
   "source": [
    "Ahora procedemos a aplicar un filtro para buscar a cada uno de esos 10 países. Como se ha observado, de los 10 países tan solo Ucrania y Moldavia están en el dataset de deuda. Es por ello que solo podemos ofrecer estos dos resultados de los 10 países con tasa de natalidad más baja.\n",
    "\n",
    "Lo que se ha hecho es buscar el país con el filtro y después seleccionar la columna del indicador que se pide y la del nombre del país."
   ]
  },
  {
   "cell_type": "code",
   "execution_count": 125,
   "metadata": {
    "colab": {
     "base_uri": "https://localhost:8080/"
    },
    "executionInfo": {
     "elapsed": 742,
     "status": "ok",
     "timestamp": 1610455062288,
     "user": {
      "displayName": "Diego",
      "photoUrl": "https://lh3.googleusercontent.com/a-/AOh14Gh24PkQ_eFYcre9m7PBHGmBbtf8oSp_v7kDim3J7w=s64",
      "userId": "05139930837643071252"
     },
     "user_tz": -60
    },
    "id": "rRRQE8UdWYbD",
    "outputId": "72b5d2b0-88b2-4f98-c9ad-5fff2d036744"
   },
   "outputs": [
    {
     "data": {
      "text/plain": [
       "[(1072472830.0, 'Ukraine')]"
      ]
     },
     "execution_count": 125,
     "metadata": {
      "tags": []
     },
     "output_type": "execute_result"
    }
   ],
   "source": [
    "ucrania = deuda_new.filter(lambda x: 'Ukraine' in x[0])\n",
    "natalidad_deuda_ucrania = ucrania.map(lambda x: (float(x[5]), x[0]))\n",
    "natalidad_deuda_ucrania.take(10)"
   ]
  },
  {
   "cell_type": "code",
   "execution_count": 124,
   "metadata": {
    "colab": {
     "base_uri": "https://localhost:8080/"
    },
    "executionInfo": {
     "elapsed": 752,
     "status": "ok",
     "timestamp": 1610455060272,
     "user": {
      "displayName": "Diego",
      "photoUrl": "https://lh3.googleusercontent.com/a-/AOh14Gh24PkQ_eFYcre9m7PBHGmBbtf8oSp_v7kDim3J7w=s64",
      "userId": "05139930837643071252"
     },
     "user_tz": -60
    },
    "id": "rd1b6tnVWYdy",
    "outputId": "bdaf85ea-0918-4a8b-b56f-cd2e4e44b9b9"
   },
   "outputs": [
    {
     "data": {
      "text/plain": [
       "[(135842865.5, 'Moldova')]"
      ]
     },
     "execution_count": 124,
     "metadata": {
      "tags": []
     },
     "output_type": "execute_result"
    }
   ],
   "source": [
    "moldavia = deuda_new.filter(lambda x: 'Moldova' in x[0])\n",
    "natalidad_deuda_moldavia = moldavia.map(lambda x: (float(x[5]), x[0]))\n",
    "natalidad_deuda_moldavia.take(10)"
   ]
  },
  {
   "cell_type": "markdown",
   "metadata": {
    "id": "99eAPIn3e80t"
   },
   "source": [
    "A modo de demostración, se puede observar que al buscar España en el dataset de deuda, no arroja ningún resultado. Así ha ocurrido con 8 de los 10 países, exceptuando Ucrania y Moldavia."
   ]
  },
  {
   "cell_type": "code",
   "execution_count": 122,
   "metadata": {
    "colab": {
     "base_uri": "https://localhost:8080/"
    },
    "executionInfo": {
     "elapsed": 625,
     "status": "ok",
     "timestamp": 1610455055630,
     "user": {
      "displayName": "Diego",
      "photoUrl": "https://lh3.googleusercontent.com/a-/AOh14Gh24PkQ_eFYcre9m7PBHGmBbtf8oSp_v7kDim3J7w=s64",
      "userId": "05139930837643071252"
     },
     "user_tz": -60
    },
    "id": "iFmxjucKbLOM",
    "outputId": "2d464d17-c682-427d-b4d9-0773d8be98b0"
   },
   "outputs": [
    {
     "data": {
      "text/plain": [
       "[]"
      ]
     },
     "execution_count": 122,
     "metadata": {
      "tags": []
     },
     "output_type": "execute_result"
    }
   ],
   "source": [
    "españa = deuda_new.filter(lambda x: 'Spain' in x[0])\n",
    "natalidad_deuda_españa = españa.map(lambda x: (float(x[5]), x[0]))\n",
    "natalidad_deuda_españa.take(10)"
   ]
  },
  {
   "cell_type": "code",
   "execution_count": 123,
   "metadata": {
    "colab": {
     "base_uri": "https://localhost:8080/"
    },
    "executionInfo": {
     "elapsed": 863,
     "status": "ok",
     "timestamp": 1610455057716,
     "user": {
      "displayName": "Diego",
      "photoUrl": "https://lh3.googleusercontent.com/a-/AOh14Gh24PkQ_eFYcre9m7PBHGmBbtf8oSp_v7kDim3J7w=s64",
      "userId": "05139930837643071252"
     },
     "user_tz": -60
    },
    "id": "yItpIYzgmQQ6",
    "outputId": "8eec1be2-4454-4ac3-c22e-447976f95263"
   },
   "outputs": [
    {
     "data": {
      "text/plain": [
       "[]"
      ]
     },
     "execution_count": 123,
     "metadata": {
      "tags": []
     },
     "output_type": "execute_result"
    }
   ],
   "source": [
    "japan = deuda_new.filter(lambda x: 'Japan' in x[0])\n",
    "natalidad_deuda_japan = japan.map(lambda x: (float(x[5]), x[0]))\n",
    "natalidad_deuda_japan.take(10)"
   ]
  },
  {
   "cell_type": "markdown",
   "metadata": {
    "id": "rDqeQNf1t-C6"
   },
   "source": [
    "##### 9. ¿Hay alguna relación entre los nacimientos y el indicador DT.AMT.DLXF.CD? ¿Cómo podrías demostrarlo?"
   ]
  },
  {
   "cell_type": "markdown",
   "metadata": {
    "id": "9sJhJynymjaT"
   },
   "source": [
    "Lo he intentado pero no he conseguido sacarlo. Una opción que he barajado ha sido la de unir ambas tablas y luego hacer un scatterplot, o bien un cálculo de la correlación de ambas variables."
   ]
  }
 ],
 "metadata": {
  "colab": {
   "collapsed_sections": [],
   "name": "Tarea ETL práctica examen final.ipynb",
   "provenance": []
  },
  "kernelspec": {
   "display_name": "Python 3",
   "language": "python",
   "name": "python3"
  },
  "language_info": {
   "codemirror_mode": {
    "name": "ipython",
    "version": 3
   },
   "file_extension": ".py",
   "mimetype": "text/x-python",
   "name": "python",
   "nbconvert_exporter": "python",
   "pygments_lexer": "ipython3",
   "version": "3.8.3"
  },
  "toc": {
   "base_numbering": 1,
   "nav_menu": {},
   "number_sections": false,
   "sideBar": true,
   "skip_h1_title": false,
   "title_cell": "Table of Contents",
   "title_sidebar": "Contents",
   "toc_cell": false,
   "toc_position": {},
   "toc_section_display": true,
   "toc_window_display": false
  }
 },
 "nbformat": 4,
 "nbformat_minor": 1
}
