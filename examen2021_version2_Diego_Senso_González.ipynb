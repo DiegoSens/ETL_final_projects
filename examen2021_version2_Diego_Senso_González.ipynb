{
  "nbformat": 4,
  "nbformat_minor": 0,
  "metadata": {
    "colab": {
      "name": "examen2021v2_Diego_Senso_González.ipynb",
      "provenance": [],
      "collapsed_sections": []
    },
    "kernelspec": {
      "display_name": "Python 3",
      "language": "python",
      "name": "python3"
    },
    "language_info": {
      "codemirror_mode": {
        "name": "ipython",
        "version": 3
      },
      "file_extension": ".py",
      "mimetype": "text/x-python",
      "name": "python",
      "nbconvert_exporter": "python",
      "pygments_lexer": "ipython3",
      "version": "3.8.3"
    },
    "toc": {
      "base_numbering": 1,
      "nav_menu": {},
      "number_sections": false,
      "sideBar": true,
      "skip_h1_title": false,
      "title_cell": "Table of Contents",
      "title_sidebar": "Contents",
      "toc_cell": false,
      "toc_position": {
        "height": "calc(100% - 180px)",
        "left": "10px",
        "top": "150px",
        "width": "165px"
      },
      "toc_section_display": true,
      "toc_window_display": true
    }
  },
  "cells": [
    {
      "cell_type": "markdown",
      "metadata": {
        "id": "kerMbhYZvf2g"
      },
      "source": [
        "**TAREA FINAL versión 2 (con tareas complementarias): Datos de vivienda - ETL**\n",
        "\n",
        "**Fecha: 8 de febrero de 2021**\n",
        "\n",
        "**Autor: Diego Senso González**"
      ]
    },
    {
      "cell_type": "markdown",
      "metadata": {
        "id": "Do6v7fN7u4OP"
      },
      "source": [
        "# TAREA FINAL: Datos de vivienda\n",
        "\n",
        "<p> El negocio inmobiliario es uno de los motores de la economía de España, el carácter turístico de nuesta península hace que sean muchos los inversores extranjeros que se decidan por buscar una inversión de bajo riesgos en nuestras ciudades costeras o grandes urbes. \n",
        "Muchas de estas inversiones se hacen sobre grandes bolsas de inmuebles que deben ser analizados previamente para comprobar la rentabilidad del porfolio </p>\n",
        "\n",
        "<!-- <p> En este caso vamos a trabajar con una tabla que contienen información de distintos inmuebles repartidos por una zona específica, sus carácterísticas y su precio </p>  -->"
      ]
    },
    {
      "cell_type": "markdown",
      "metadata": {
        "id": "euetpMVVu4OZ"
      },
      "source": [
        "Todas las cuestiones se deben realizar sobre el conjunto de casos que representen viviendas ubicadas en zonas residenciales **(alta, media y baja densidad)**"
      ]
    },
    {
      "cell_type": "markdown",
      "metadata": {
        "id": "8CPCh4mbu4Oa"
      },
      "source": [
        "**MUY IMPORTANTE:** En las otras prácticas he detectado colaboraciones involucrando varias personas y he sido flexible aunque a algunos os lo he mencionado en las correcciones, porque al final el trabajo de analista de datos es un trabajo colaborativo. Sin embargo, este trabajo es individual, así que cuidado con las colaboraciones."
      ]
    },
    {
      "cell_type": "markdown",
      "metadata": {
        "id": "L6T-zN6qu4Ob"
      },
      "source": [
        "Las variables de las que se compone el dataset son:"
      ]
    },
    {
      "cell_type": "markdown",
      "metadata": {
        "id": "vMFtM_o8u4Oc"
      },
      "source": [
        "|NOMBRE VARIABLE|DESCRIPTOR|VALORES|\n",
        "| --- | --- | --- |\n",
        "|Order|Variable de identificación|1 a 2930|\n",
        "|MS Zoning|Zona de ubicación de la vivienda|\"A rural, C comercial, FV residencial flotante, I industrial, RH residencial alta densidad, RL residencial baja densidad, RM residencial media densidad\"|\n",
        "|Lot Frontage|Longitud de la fachada en pies||\n",
        "|Lot Area|Superficie de la vivienda en pies cuadrados||\n",
        "|Land Contour|Contorno del terreno circundante|\"Lvl llano, Bnk Tipo bancal, HLS Ladera, Low Depresión\"|\n",
        "|Land Slope|Tipo de pendiente de la vivienda|\" Gtl pendiente suave, Mod pendiente moderada, Sev fuerte pendiente\"|\n",
        "|Overall Qual|Grado de calidad de materiales y acabado de la vivienda|De 1 (Muy pobre) a 10 (Excelente)|\n",
        "|Year Built|Año de construccion de la vivienda||\n",
        "|Year Remod/Add|Año de última reforma de la vivienda||\n",
        "|Mas Vnr Type|Tipo de revestimiento exterior|\" BrkCmn Ladrillo normal, BrkFace Ladrillo visto, CBlock Bloque de cemento, None Ninguna, Stone Piedra \"|\n",
        "|Exter Qual|Calidad de revestimiento exterior|\"Ex Excelente,Gd Bueno,TA Media,Fa Justo\"|\n",
        "|Bsmt Cond|Estado general del sótano|\"Ex Excelente, Gd Bueno, TA Media, Fa Justo, Po Pobre,Ss sin sótano\"|\n",
        "|Total Bsmt SF|Superficie del sótano en pies cuadrados|\n",
        "|Heating QC|Calidad de la calefacción|\"Ex Excelente,Gd Bueno,TA Media,Fa Justo,Po Pobre\"|\n",
        "|Central Air|Aire acondicionado centralizado|\"N No Y Sí\"|\n",
        "|Full Bath|Número de baños completo en planta||\n",
        "|Half Bath|Número de aseos en planta||\n",
        "|Bedroom AbvGr|Número de dormitorios en planta||\n",
        "|Kitchen AbvGr|Número de cocinas en planta||\n",
        "|Kitchen Qual|Calidad de cocinas|\"Ex Excelente,Gd Bueno,TA Media,Fa Justo,Po Pobre\"|\n",
        "|TotRms AbvGrd|Número total de habitaciones excluidos los cuartos de baño||\n",
        "|Garage Cars|Número de plazas de garaje||\n",
        "|Garage Area|Superficie del garaje|||\n",
        "|Garage Cond|Estado del garaje|\"Ex Excelente,Gd Bueno,TA Media,Fa Justo,Po Pobre,Sg sin garaje\"|\n",
        "|Pool Area|Superficie de la piscina en pies cuadrados|\n",
        "|Pool QC|Calidad de la piscina|\"Ex Excelente,Gd Bueno,TA Media,Fa Justo,Sp no hay piscina\"|\n",
        "|Mo Sold|mes de venta||\n",
        "|Yr Sold|año de venta||\n",
        "|SalePrice|precio de venta en dólares||"
      ]
    },
    {
      "cell_type": "markdown",
      "metadata": {
        "id": "dLcNc0SGu4Od"
      },
      "source": [
        "Recomiendo al leer los datos, eliminar espacios de los nombres de las columnas, realiza un pequeño análisis inicial de los mismos. No olvides fijarte en los tipos de variables, que variables pueden tener tipos confundidos y corrige los. Sobre todo, trabaja con las fechas."
      ]
    },
    {
      "cell_type": "markdown",
      "metadata": {
        "id": "_wNCsHpnu4Od"
      },
      "source": [
        "**NOTA:** Las tareas complementarias sirven para subir nota. El resto de preguntas valen igual y suman 10 puntos."
      ]
    },
    {
      "cell_type": "markdown",
      "metadata": {
        "id": "c_nlyXCnu4Od"
      },
      "source": [
        "## Inicializar y cargar el contexto spark"
      ]
    },
    {
      "cell_type": "code",
      "metadata": {
        "id": "j4pPB6eEvAr8"
      },
      "source": [
        "!apt-get install openjdk-8-jdk-headless -qq > /dev/null\n",
        "!wget -q https://www-us.apache.org/dist/spark/spark-2.4.7/spark-2.4.7-bin-hadoop2.7.tgz\n",
        "!tar xf spark-2.4.7-bin-hadoop2.7.tgz #d\n",
        "!pip install -q findspark \n",
        "\n",
        "import os\n",
        "os.environ[\"JAVA_HOME\"] = \"/usr/lib/jvm/java-8-openjdk-amd64\"\n",
        "os.environ[\"SPARK_HOME\"] = \"/content/spark-2.4.7-bin-hadoop2.7\"\n",
        "\n",
        "import findspark\n",
        "findspark.init()\n",
        "from pyspark import SparkContext\n",
        "sc = SparkContext()\n",
        "from pyspark.sql import SparkSession\n",
        "spark = SparkSession.builder.master(\"local[*]\").getOrCreate()"
      ],
      "execution_count": 1,
      "outputs": []
    },
    {
      "cell_type": "markdown",
      "metadata": {
        "id": "cY9iSrY06CAW"
      },
      "source": [
        "Importamos Numpy y Pandas para realizar algunas funciones suyas a la hora del análisis exploratorio de los datos."
      ]
    },
    {
      "cell_type": "code",
      "metadata": {
        "id": "z0NDRaD_Shiy"
      },
      "source": [
        "import pandas as pd\n",
        "import numpy as np"
      ],
      "execution_count": 2,
      "outputs": []
    },
    {
      "cell_type": "markdown",
      "metadata": {
        "id": "y4BQYcd-6Kaf"
      },
      "source": [
        "Cargamos el fichero CSV:"
      ]
    },
    {
      "cell_type": "code",
      "metadata": {
        "id": "_-NaSxzuvvwM"
      },
      "source": [
        "viviendas = sc.textFile(\"BDpracticafinalCSV.csv\")"
      ],
      "execution_count": 6,
      "outputs": []
    },
    {
      "cell_type": "markdown",
      "metadata": {
        "id": "1JQ0Zxzr6PKU"
      },
      "source": [
        "También se carga con pandas:"
      ]
    },
    {
      "cell_type": "code",
      "metadata": {
        "id": "S6KVw5BA_Fk7"
      },
      "source": [
        "viviendas_pandas = pd.read_csv(\"BDpracticafinalCSV.csv\", delimiter = ';', index_col = 0)"
      ],
      "execution_count": 7,
      "outputs": []
    },
    {
      "cell_type": "markdown",
      "metadata": {
        "id": "hBLviG1AW5dV"
      },
      "source": [
        "Carga del archivo tipo XLSX:"
      ]
    },
    {
      "cell_type": "code",
      "metadata": {
        "colab": {
          "base_uri": "https://localhost:8080/",
          "height": 381
        },
        "id": "vLvpiNtPW4yv",
        "outputId": "946acc2c-80f4-4204-a2c6-5b3053d47bb3"
      },
      "source": [
        "from pyspark.shell import sqlContext\n",
        "from pyspark.sql import SparkSession\n",
        "\n",
        "spark = SparkSession.builder \\\n",
        "      .master('local') \\\n",
        "      .appName('Planning') \\\n",
        "      .enableHiveSupport() \\\n",
        "      .config('spark.executor.memory', '2g') \\\n",
        "      .getOrCreate()\n",
        "\n",
        "data = sqlContext.read(\"BDpracticafinal2021.xlsx\").show()"
      ],
      "execution_count": 8,
      "outputs": [
        {
          "output_type": "stream",
          "text": [
            "Welcome to\n",
            "      ____              __\n",
            "     / __/__  ___ _____/ /__\n",
            "    _\\ \\/ _ \\/ _ `/ __/  '_/\n",
            "   /__ / .__/\\_,_/_/ /_/\\_\\   version 2.4.7\n",
            "      /_/\n",
            "\n",
            "Using Python version 3.6.9 (default, Oct  8 2020 12:12:24)\n",
            "SparkSession available as 'spark'.\n"
          ],
          "name": "stdout"
        },
        {
          "output_type": "error",
          "ename": "TypeError",
          "evalue": "ignored",
          "traceback": [
            "\u001b[0;31m---------------------------------------------------------------------------\u001b[0m",
            "\u001b[0;31mTypeError\u001b[0m                                 Traceback (most recent call last)",
            "\u001b[0;32m<ipython-input-8-71e936f8600f>\u001b[0m in \u001b[0;36m<module>\u001b[0;34m()\u001b[0m\n\u001b[1;32m      4\u001b[0m \u001b[0mspark\u001b[0m \u001b[0;34m=\u001b[0m \u001b[0mSparkSession\u001b[0m\u001b[0;34m.\u001b[0m\u001b[0mbuilder\u001b[0m       \u001b[0;34m.\u001b[0m\u001b[0mmaster\u001b[0m\u001b[0;34m(\u001b[0m\u001b[0;34m'local'\u001b[0m\u001b[0;34m)\u001b[0m       \u001b[0;34m.\u001b[0m\u001b[0mappName\u001b[0m\u001b[0;34m(\u001b[0m\u001b[0;34m'Planning'\u001b[0m\u001b[0;34m)\u001b[0m       \u001b[0;34m.\u001b[0m\u001b[0menableHiveSupport\u001b[0m\u001b[0;34m(\u001b[0m\u001b[0;34m)\u001b[0m       \u001b[0;34m.\u001b[0m\u001b[0mconfig\u001b[0m\u001b[0;34m(\u001b[0m\u001b[0;34m'spark.executor.memory'\u001b[0m\u001b[0;34m,\u001b[0m \u001b[0;34m'2g'\u001b[0m\u001b[0;34m)\u001b[0m       \u001b[0;34m.\u001b[0m\u001b[0mgetOrCreate\u001b[0m\u001b[0;34m(\u001b[0m\u001b[0;34m)\u001b[0m\u001b[0;34m\u001b[0m\u001b[0;34m\u001b[0m\u001b[0m\n\u001b[1;32m      5\u001b[0m \u001b[0;34m\u001b[0m\u001b[0m\n\u001b[0;32m----> 6\u001b[0;31m \u001b[0mdata\u001b[0m \u001b[0;34m=\u001b[0m \u001b[0msqlContext\u001b[0m\u001b[0;34m.\u001b[0m\u001b[0mread\u001b[0m\u001b[0;34m(\u001b[0m\u001b[0;34m\"BDpracticafinal2021.xlsx\"\u001b[0m\u001b[0;34m)\u001b[0m\u001b[0;34m.\u001b[0m\u001b[0mshow\u001b[0m\u001b[0;34m(\u001b[0m\u001b[0;34m)\u001b[0m\u001b[0;34m\u001b[0m\u001b[0;34m\u001b[0m\u001b[0m\n\u001b[0m",
            "\u001b[0;31mTypeError\u001b[0m: 'DataFrameReader' object is not callable"
          ]
        }
      ]
    },
    {
      "cell_type": "markdown",
      "metadata": {
        "id": "-7K3_eyt6SEC"
      },
      "source": [
        "Observamos las diferentes variables del dataset y el tipo de cada una:"
      ]
    },
    {
      "cell_type": "code",
      "metadata": {
        "colab": {
          "base_uri": "https://localhost:8080/"
        },
        "id": "oJ9JNR3b_P9D",
        "outputId": "b0cdbae5-db85-46e7-c01e-d378e651b647"
      },
      "source": [
        "viviendas_pandas.info()"
      ],
      "execution_count": 9,
      "outputs": [
        {
          "output_type": "stream",
          "text": [
            "<class 'pandas.core.frame.DataFrame'>\n",
            "Int64Index: 2936 entries, 1 to 2901\n",
            "Data columns (total 28 columns):\n",
            " #   Column          Non-Null Count  Dtype  \n",
            "---  ------          --------------  -----  \n",
            " 0   MS Zoning       2936 non-null   object \n",
            " 1   Lot Frontage    2444 non-null   float64\n",
            " 2   Lot Area        2936 non-null   int64  \n",
            " 3   Land Contour    2936 non-null   object \n",
            " 4   Land Slope      2936 non-null   object \n",
            " 5   Overall Qual    2936 non-null   int64  \n",
            " 6   Year Built      2936 non-null   int64  \n",
            " 7   Year Remod/Add  2936 non-null   int64  \n",
            " 8   Mas Vnr Type    2913 non-null   object \n",
            " 9   Exter Qual      2936 non-null   object \n",
            " 10  Bsmt Cond       2936 non-null   object \n",
            " 11  Total Bsmt SF   2936 non-null   int64  \n",
            " 12  Heating QC      2936 non-null   object \n",
            " 13  Central Air     2936 non-null   object \n",
            " 14  Full Bath       2936 non-null   int64  \n",
            " 15  Half Bath       2936 non-null   int64  \n",
            " 16  Bedroom AbvGr   2936 non-null   int64  \n",
            " 17  Kitchen AbvGr   2936 non-null   int64  \n",
            " 18  Kitchen Qual    2936 non-null   object \n",
            " 19  TotRms AbvGrd   2936 non-null   int64  \n",
            " 20  Garage Cars     2935 non-null   float64\n",
            " 21  Garage Area     2935 non-null   float64\n",
            " 22  Garage Cond     2934 non-null   object \n",
            " 23  Pool Area       2936 non-null   int64  \n",
            " 24  Pool QC         2936 non-null   object \n",
            " 25  Mo Sold         2936 non-null   int64  \n",
            " 26  Yr Sold         2936 non-null   int64  \n",
            " 27  SalePrice       2936 non-null   int64  \n",
            "dtypes: float64(3), int64(14), object(11)\n",
            "memory usage: 665.2+ KB\n"
          ],
          "name": "stdout"
        }
      ]
    },
    {
      "cell_type": "markdown",
      "metadata": {
        "id": "bXXM03QI6agc"
      },
      "source": [
        "Procedemos a eliminar la primera fila de los datos. Luego, separamos por ';'."
      ]
    },
    {
      "cell_type": "code",
      "metadata": {
        "id": "mcMuc60Uwb6A"
      },
      "source": [
        "primera_fila_viviendas = viviendas.take(1)[0]\n",
        "viviendas = viviendas.filter(lambda x: x != primera_fila_viviendas)\n",
        "viviendas_new = viviendas.map(lambda x: x.split(\";\"))"
      ],
      "execution_count": 10,
      "outputs": []
    },
    {
      "cell_type": "markdown",
      "metadata": {
        "id": "wbhYlIqK6jaC"
      },
      "source": [
        "Ahora, creamos los filtros para seleccionar las observaciones de cada una de las tres zonas que se piden."
      ]
    },
    {
      "cell_type": "code",
      "metadata": {
        "id": "COg0rLP3DGm6"
      },
      "source": [
        "RL = viviendas_new.filter(lambda x: x[1] in ('RL', 'rL', 'Rl'))\n",
        "RH = viviendas_new.filter(lambda x: x[1] == 'RH')\n",
        "RM = viviendas_new.filter(lambda x: x[1] == 'RM')"
      ],
      "execution_count": 12,
      "outputs": []
    },
    {
      "cell_type": "markdown",
      "metadata": {
        "id": "y4SLn7976o_o"
      },
      "source": [
        "Se unen los diferentes datos de las zonas, y se observa cómo ha quedado brevemente."
      ]
    },
    {
      "cell_type": "code",
      "metadata": {
        "colab": {
          "base_uri": "https://localhost:8080/"
        },
        "id": "9llBnoqMFh9c",
        "outputId": "ade7aaea-514b-47f3-f707-5a84925dd61f"
      },
      "source": [
        "union_RL_RH = RL.union(RH)\n",
        "viviendas_final = union_RL_RH.union(RM)\n",
        "viviendas_final.take(1)"
      ],
      "execution_count": 13,
      "outputs": [
        {
          "output_type": "execute_result",
          "data": {
            "text/plain": [
              "[['1',\n",
              "  'RL',\n",
              "  '141',\n",
              "  '31770',\n",
              "  'Lvl',\n",
              "  'Gtl',\n",
              "  '6',\n",
              "  '1960',\n",
              "  '1960',\n",
              "  'Stone',\n",
              "  'TA',\n",
              "  'Gd',\n",
              "  '1080',\n",
              "  'Fa',\n",
              "  'Y',\n",
              "  '1',\n",
              "  '0',\n",
              "  '3',\n",
              "  '1',\n",
              "  'TA',\n",
              "  '7',\n",
              "  '2',\n",
              "  '528',\n",
              "  'TA',\n",
              "  '0',\n",
              "  'Sp',\n",
              "  '5',\n",
              "  '2010',\n",
              "  '215000']]"
            ]
          },
          "metadata": {
            "tags": []
          },
          "execution_count": 13
        }
      ]
    },
    {
      "cell_type": "markdown",
      "metadata": {
        "id": "dZMP9eTWu4Oe"
      },
      "source": [
        "## Cuántas viviendas distintas encontramos en el dataset? ¿Se repite alguna? Tiene sentido que haya duplicadas? ¿Qué podemos hacer con las duplicadas?"
      ]
    },
    {
      "cell_type": "markdown",
      "metadata": {
        "id": "Hn0rKkQY66hZ"
      },
      "source": [
        "Se procede a contar primero los registros que hay en estas tres zonas, para saber cuántas viviendas hay en los datos con los que se va a trabajar durante la práctica."
      ]
    },
    {
      "cell_type": "code",
      "metadata": {
        "colab": {
          "base_uri": "https://localhost:8080/"
        },
        "id": "UwnOh50ew1k0",
        "outputId": "56a8957b-6850-4214-8dfc-01b092ec9cd4"
      },
      "source": [
        "viviendas_final.count()"
      ],
      "execution_count": null,
      "outputs": [
        {
          "output_type": "execute_result",
          "data": {
            "text/plain": [
              "2768"
            ]
          },
          "metadata": {
            "tags": []
          },
          "execution_count": 53
        }
      ]
    },
    {
      "cell_type": "markdown",
      "metadata": {
        "id": "OM5JDVSk7BhD"
      },
      "source": [
        "Ahora, gracias a una función de Python se puede contar el número de viviendas duplicadas en total."
      ]
    },
    {
      "cell_type": "code",
      "metadata": {
        "colab": {
          "base_uri": "https://localhost:8080/"
        },
        "id": "MgBgjaO4VjTu",
        "outputId": "51aa5e5d-5cfd-455a-e203-0d0242699e97"
      },
      "source": [
        "viviendas_pandas.duplicated().sum()"
      ],
      "execution_count": null,
      "outputs": [
        {
          "output_type": "execute_result",
          "data": {
            "text/plain": [
              "8"
            ]
          },
          "metadata": {
            "tags": []
          },
          "execution_count": 54
        }
      ]
    },
    {
      "cell_type": "markdown",
      "metadata": {
        "id": "uWbw5v7c8_50"
      },
      "source": [
        "Observando el diccionario de variables, se puede extraer la conclusión de que sí es posible que se repitan observaciones y sin embargo ser viviendas diferentes. Esto es debido a que en el dataset no existe ninguna variable que se pueda entender como un valor único para cada observación, como por ejemplo un identificador de vivienda o unas coordenadas concretas. Podría darse el caso de que dos viviendas del mismo edificio o urbanización respondan a unas características similares. Por ello, se ha decidido continuar con los duplicados y no eliminarlos, además de que son pocos valores."
      ]
    },
    {
      "cell_type": "markdown",
      "metadata": {
        "id": "AI3_0as_u4Oe"
      },
      "source": [
        "## ¿Podrías decirme el total de inmuebles y el precio medio (Sale Price) de cada zona (MS Zoning)?"
      ]
    },
    {
      "cell_type": "markdown",
      "metadata": {
        "id": "OHinGXCm8y0x"
      },
      "source": [
        "Se ha procedido a escoger los precios de venta de cada una de las tres zonas, además de contar el número de observaciones para cada una de tres zonas. Zona RL:"
      ]
    },
    {
      "cell_type": "code",
      "metadata": {
        "colab": {
          "base_uri": "https://localhost:8080/"
        },
        "id": "5HGW-KpwXKcH",
        "outputId": "221acf5c-26cd-4bac-e76b-1a34b8b0dbca"
      },
      "source": [
        "zona_RL = RL.map(lambda x: (x[28]))\n",
        "zona_RL=zona_RL.filter(lambda x_int: x_int.isdigit())\n",
        "zona_RL=zona_RL.map(lambda x: float(x))\n",
        "\n",
        "zona_RL.mean(), zona_RL.count()"
      ],
      "execution_count": null,
      "outputs": [
        {
          "output_type": "execute_result",
          "data": {
            "text/plain": [
              "(191412.60684510757, 2279)"
            ]
          },
          "metadata": {
            "tags": []
          },
          "execution_count": 55
        }
      ]
    },
    {
      "cell_type": "markdown",
      "metadata": {
        "id": "YRzGNugpQGDY"
      },
      "source": [
        "Zona RM:"
      ]
    },
    {
      "cell_type": "code",
      "metadata": {
        "colab": {
          "base_uri": "https://localhost:8080/"
        },
        "id": "rC8lyjoEXn38",
        "outputId": "892e6f19-eb5b-46c4-a36b-61efb98a49a8"
      },
      "source": [
        "zona_RM = RM.map(lambda x: (x[28]))\n",
        "zona_RM=zona_RM.filter(lambda x_int: x_int.isdigit())\n",
        "zona_RM=zona_RM.map(lambda x: float(x))\n",
        "\n",
        "zona_RM.mean(), zona_RM.count()"
      ],
      "execution_count": null,
      "outputs": [
        {
          "output_type": "execute_result",
          "data": {
            "text/plain": [
              "(126781.39393939397, 462)"
            ]
          },
          "metadata": {
            "tags": []
          },
          "execution_count": 56
        }
      ]
    },
    {
      "cell_type": "markdown",
      "metadata": {
        "id": "6APUC5JsQHwH"
      },
      "source": [
        "Zona RH:"
      ]
    },
    {
      "cell_type": "code",
      "metadata": {
        "colab": {
          "base_uri": "https://localhost:8080/"
        },
        "id": "CcOb_GYaXrw-",
        "outputId": "7be4d2f8-72ca-446f-a8b4-c76ebdc4d12d"
      },
      "source": [
        "zona_RH = RH.map(lambda x: (x[28]))\n",
        "zona_RH=zona_RH.filter(lambda x_int: x_int.isdigit())\n",
        "zona_RH=zona_RH.map(lambda x: float(x))\n",
        "\n",
        "zona_RH.mean(), zona_RH.count()"
      ],
      "execution_count": null,
      "outputs": [
        {
          "output_type": "execute_result",
          "data": {
            "text/plain": [
              "(136419.77777777778, 27)"
            ]
          },
          "metadata": {
            "tags": []
          },
          "execution_count": 57
        }
      ]
    },
    {
      "cell_type": "markdown",
      "metadata": {
        "id": "8lVZM-pIQQlS"
      },
      "source": [
        "A la vista de los resultados, la zona de baja densidad (RL) cuenta con muchas más viviendas. Además, supone el mayor precio medio de las casas. La zona más barata de media es la de densidad media."
      ]
    },
    {
      "cell_type": "markdown",
      "metadata": {
        "id": "eGbJxGZCu4Of"
      },
      "source": [
        "## Media de Total Bsmt SF por cada década de construcción calculada a partir de Year Built. \n",
        "## ¿Cuál es la decada de construcción con viviendas mejor acondicionadas para el frío (Heating QC)?"
      ]
    },
    {
      "cell_type": "markdown",
      "metadata": {
        "id": "LpugY_kNQeTE"
      },
      "source": [
        "Se interpreta que se debe escoger el Total Bsmt SF, y agruparlo por década de construcción. Para ello, primero se define una función que convierte cada año en la década en que se encuentra."
      ]
    },
    {
      "cell_type": "code",
      "metadata": {
        "id": "jGJzlxKfcJG7"
      },
      "source": [
        "def get_decade(x):\n",
        "    return x[0] + x[1] + x[2] + \"0s\""
      ],
      "execution_count": null,
      "outputs": []
    },
    {
      "cell_type": "markdown",
      "metadata": {
        "id": "tIozvFOTQvFv"
      },
      "source": [
        "A continuación, se aplica la función seleccionando la columna del año de construcción, y se selecciona y convierte en float la columna del indicador solicitado. Posteriormente, se muestran los resultados agrupados por cada década."
      ]
    },
    {
      "cell_type": "code",
      "metadata": {
        "colab": {
          "base_uri": "https://localhost:8080/"
        },
        "id": "HpeeoMSBEh49",
        "outputId": "4b7da11c-2869-41ef-f0c5-ee48a9c0674a"
      },
      "source": [
        "decada_construccion = viviendas_final.map(lambda x: (get_decade(x[7]), [float(x[3])]))\n",
        "decada_construccion.reduceByKey(lambda x,y: [x[0]+y[0]]).take(15)"
      ],
      "execution_count": null,
      "outputs": [
        {
          "output_type": "execute_result",
          "data": {
            "text/plain": [
              "[('1940s', [1397747.0]),\n",
              " ('1900s', [343871.0]),\n",
              " ('2000s', [6934543.0]),\n",
              " ('1970s', [3349636.0]),\n",
              " ('1920s', [1544611.0]),\n",
              " ('1910s', [955525.0]),\n",
              " ('1930s', [867047.0]),\n",
              " ('1880s', [115197.0]),\n",
              " ('1990s', [3458945.0]),\n",
              " ('2010s', [18754.0]),\n",
              " ('1890s', [132274.0]),\n",
              " ('1960s', [4346102.0]),\n",
              " ('1950s', [3884896.0]),\n",
              " ('1870s', [25092.0]),\n",
              " ('1980s', [1183432.0])]"
            ]
          },
          "metadata": {
            "tags": []
          },
          "execution_count": 59
        }
      ]
    },
    {
      "cell_type": "markdown",
      "metadata": {
        "id": "ay9F-xIm9W0F"
      },
      "source": [
        "Segunda parte de la pregunta. Se interpreta que se deben obtener las viviendas que tengan un acondicionamiento de excelente. Luego, mostrar cuántas casas con esa calificación existen en cada década (en la que son construidas). Para ello, se realiza un filtro, se seleccionan las columnas del año (aplicando la función para obtener la década) y la columna de la calificación del acondicionamiento contra el frío. Por último, se cuentan los registros por cada década."
      ]
    },
    {
      "cell_type": "code",
      "metadata": {
        "colab": {
          "base_uri": "https://localhost:8080/"
        },
        "id": "C0YHcqWx_f8-",
        "outputId": "c4f7525d-754f-4ea5-85e8-7fa89ea5486a"
      },
      "source": [
        "excelente = viviendas_final.filter(lambda x: (x[13]== \"Ex\"))\n",
        "excelente = excelente.map(lambda x: (get_decade(x[7]), x[13]))\n",
        "excelente.countByKey()"
      ],
      "execution_count": null,
      "outputs": [
        {
          "output_type": "execute_result",
          "data": {
            "text/plain": [
              "defaultdict(int,\n",
              "            {'1880s': 2,\n",
              "             '1890s': 4,\n",
              "             '1900s': 12,\n",
              "             '1910s': 38,\n",
              "             '1920s': 51,\n",
              "             '1930s': 40,\n",
              "             '1940s': 56,\n",
              "             '1950s': 98,\n",
              "             '1960s': 88,\n",
              "             '1970s': 68,\n",
              "             '1980s': 28,\n",
              "             '1990s': 235,\n",
              "             '2000s': 641,\n",
              "             '2010s': 2})"
            ]
          },
          "metadata": {
            "tags": []
          },
          "execution_count": 60
        }
      ]
    },
    {
      "cell_type": "markdown",
      "metadata": {
        "id": "MgTy9nBgu4Of"
      },
      "source": [
        "## ¿Cuáles son las 10 viviendas que se vendieron por un precio más elevado por metro cuadrado en el año 2009?"
      ]
    },
    {
      "cell_type": "markdown",
      "metadata": {
        "id": "KCWm2Y9IXu8z"
      },
      "source": [
        "Se extraen todas las viviendas vendidas en el año 2009. Tras ello, se selecciona tanto el precio de venta como la superficie de cada una de las viviendas. Debido a que la superficie está en pies, se multiplica por un valor para pasarlo a metros cuadrados. Por último, se divide precio entre metros cuadrados y se seleccionan los diez valores más elevados."
      ]
    },
    {
      "cell_type": "code",
      "metadata": {
        "colab": {
          "base_uri": "https://localhost:8080/"
        },
        "id": "F_qm7FXEPoSm",
        "outputId": "c17246ab-7753-4a1e-cfb9-8a1979e47a69"
      },
      "source": [
        "año_2009 = viviendas_final.filter(lambda x: x[27] == '2009')\n",
        "viviendas_caras = año_2009.map(lambda x: (x[27], [float(x[28]), float(x[3]) * 0.093]))\n",
        "viviendas_caras.map(lambda x: [x[0],x[1][0]/x[1][1]]).top(10)"
      ],
      "execution_count": null,
      "outputs": [
        {
          "output_type": "execute_result",
          "data": {
            "text/plain": [
              "[['2009', 1025.6410256410256],\n",
              " ['2009', 989.9988437969708],\n",
              " ['2009', 820.2006409891715],\n",
              " ['2009', 807.1186531124097],\n",
              " ['2009', 764.8489503328212],\n",
              " ['2009', 755.2483358934971],\n",
              " ['2009', 716.8458781362007],\n",
              " ['2009', 713.536722322531],\n",
              " ['2009', 710.4454685099846],\n",
              " ['2009', 700.339558573854]]"
            ]
          },
          "metadata": {
            "tags": []
          },
          "execution_count": 61
        }
      ]
    },
    {
      "cell_type": "markdown",
      "metadata": {
        "id": "tmHP2h_cu4Of"
      },
      "source": [
        "## Media anual por zonas del precio de venta y metros cuadrados."
      ]
    },
    {
      "cell_type": "markdown",
      "metadata": {
        "id": "2c5wwFDwR3zY"
      },
      "source": [
        "Se pretende obtener la media del precio de venta y de los metros cuadrados por zona y por año. Para comenzar, se extraen con filtros los datos anuales para cada zona."
      ]
    },
    {
      "cell_type": "code",
      "metadata": {
        "id": "DHWuzK72SkS1"
      },
      "source": [
        "RL2010 = RL.filter(lambda x: x[27] == '2010')\n",
        "RL2009 = RL.filter(lambda x: x[27] == '2009')\n",
        "RL2008 = RL.filter(lambda x: x[27] == '2008')\n",
        "RL2007 = RL.filter(lambda x: x[27] == '2007')\n",
        "RL2006 = RL.filter(lambda x: x[27] == '2006')\n",
        "\n",
        "RM2010 = RM.filter(lambda x: x[27] == '2010')\n",
        "RM2009 = RM.filter(lambda x: x[27] == '2009')\n",
        "RM2008 = RM.filter(lambda x: x[27] == '2008')\n",
        "RM2007 = RM.filter(lambda x: x[27] == '2007')\n",
        "RM2006 = RM.filter(lambda x: x[27] == '2006')\n",
        "\n",
        "RH2010 = RH.filter(lambda x: x[27] == '2010')\n",
        "RH2009 = RH.filter(lambda x: x[27] == '2009')\n",
        "RH2008 = RH.filter(lambda x: x[27] == '2008')\n",
        "RH2007 = RH.filter(lambda x: x[27] == '2007')\n",
        "RH2006 = RH.filter(lambda x: x[27] == '2006')"
      ],
      "execution_count": null,
      "outputs": []
    },
    {
      "cell_type": "markdown",
      "metadata": {
        "id": "a6wTdVTDSFBf"
      },
      "source": [
        "A continuación, se extrae de cada año el dato del precio de venta y se le aplica la media."
      ]
    },
    {
      "cell_type": "markdown",
      "metadata": {
        "id": "1L_-p-9sTAYO"
      },
      "source": [
        "Media anual de precio para la zona de baja densidad (RL) en orden desde los años 2010 a 2006:"
      ]
    },
    {
      "cell_type": "code",
      "metadata": {
        "colab": {
          "base_uri": "https://localhost:8080/"
        },
        "id": "U9D94zhmTqUQ",
        "outputId": "2a3d65e3-aba4-460d-ce22-60ba61896409"
      },
      "source": [
        "RL2010.map(lambda x: int(x[28])).mean(), RL2009.map(lambda x: int(x[28])).mean(), RL2008.map(lambda x: int(x[28])).mean(), RL2007.map(lambda x: int(x[28])).mean(), RL2006.map(lambda x: int(x[28])).mean()"
      ],
      "execution_count": null,
      "outputs": [
        {
          "output_type": "execute_result",
          "data": {
            "text/plain": [
              "(184978.41897233203,\n",
              " 190455.5508637236,\n",
              " 189885.5851528385,\n",
              " 193399.98014440428,\n",
              " 194911.2819472616)"
            ]
          },
          "metadata": {
            "tags": []
          },
          "execution_count": 63
        }
      ]
    },
    {
      "cell_type": "markdown",
      "metadata": {
        "id": "p9gqP-EtUSi5"
      },
      "source": [
        "Media anual de precio para la zona de densidad media (RM) en orden desde los años 2010 a 2006:"
      ]
    },
    {
      "cell_type": "code",
      "metadata": {
        "colab": {
          "base_uri": "https://localhost:8080/"
        },
        "id": "SCMc9mCsUWKI",
        "outputId": "8013a747-e481-4f34-d3c7-0b94375fc509"
      },
      "source": [
        "RM2010.map(lambda x: int(x[28])).mean(), RM2009.map(lambda x: int(x[28])).mean(), RM2008.map(lambda x: int(x[28])).mean(), RM2007.map(lambda x: int(x[28])).mean(), RM2006.map(lambda x: int(x[28])).mean()"
      ],
      "execution_count": null,
      "outputs": [
        {
          "output_type": "execute_result",
          "data": {
            "text/plain": [
              "(119681.70689655174,\n",
              " 118759.86904761905,\n",
              " 133336.1219512195,\n",
              " 128947.62105263153,\n",
              " 127502.63725490194)"
            ]
          },
          "metadata": {
            "tags": []
          },
          "execution_count": 64
        }
      ]
    },
    {
      "cell_type": "markdown",
      "metadata": {
        "id": "eYsiq7kuU4pw"
      },
      "source": [
        "Media anual de precio para la zona de alta densidad (RH) en orden desde los años 2010 a 2006:"
      ]
    },
    {
      "cell_type": "code",
      "metadata": {
        "colab": {
          "base_uri": "https://localhost:8080/"
        },
        "id": "CFzrUvZLUWM2",
        "outputId": "e3cf7e1d-564f-4a37-c9ba-5fe89b00969d"
      },
      "source": [
        "RH2010.map(lambda x: int(x[28])).mean(), RH2009.map(lambda x: int(x[28])).mean(), RH2008.map(lambda x: int(x[28])).mean(), RH2007.map(lambda x: int(x[28])).mean(), RH2006.map(lambda x: int(x[28])).mean()"
      ],
      "execution_count": null,
      "outputs": [
        {
          "output_type": "execute_result",
          "data": {
            "text/plain": [
              "(126280.0, 116206.8, 150333.33333333334, 147250.0, 140316.66666666666)"
            ]
          },
          "metadata": {
            "tags": []
          },
          "execution_count": 65
        }
      ]
    },
    {
      "cell_type": "markdown",
      "metadata": {
        "id": "tFbg8_AbVZvw"
      },
      "source": [
        "Ahora, se pasa a calcular la media de metros cuadrados para cada zona. Para ello a los datos anuales se les extrae la columna de la superficie y se le multiplica por 0.093 para convertir en metros cuadrados."
      ]
    },
    {
      "cell_type": "markdown",
      "metadata": {
        "id": "MYwW-XzuVNEn"
      },
      "source": [
        "Media anual de metros cuadrados para la zona de baja densidad (RL) en orden desde los años 2010 a 2006:"
      ]
    },
    {
      "cell_type": "code",
      "metadata": {
        "colab": {
          "base_uri": "https://localhost:8080/"
        },
        "id": "pauNmbyQVhu5",
        "outputId": "91e9ab1a-fd5a-42ac-9ee8-f6ea86195d59"
      },
      "source": [
        "RL2010.map(lambda x: float(x[3]) * 0.093).mean(), RL2009.map(lambda x: float(x[3]) * 0.093).mean(), RL2008.map(lambda x: float(x[3]) * 0.093).mean(), RL2007.map(lambda x: float(x[3]) * 0.093).mean(), RL2006.map(lambda x: float(x[3]) * 0.093).mean()"
      ],
      "execution_count": null,
      "outputs": [
        {
          "output_type": "execute_result",
          "data": {
            "text/plain": [
              "(1012.4152766798421,\n",
              " 1003.2304491362762,\n",
              " 1048.747192139738,\n",
              " 1060.7843555956679,\n",
              " 1044.7782231237325)"
            ]
          },
          "metadata": {
            "tags": []
          },
          "execution_count": 66
        }
      ]
    },
    {
      "cell_type": "markdown",
      "metadata": {
        "id": "dWOyY6WMVQiA"
      },
      "source": [
        "Media anual de metros cuadrados para la zona de densidad media (RM) en orden desde los años 2010 a 2006:"
      ]
    },
    {
      "cell_type": "code",
      "metadata": {
        "colab": {
          "base_uri": "https://localhost:8080/"
        },
        "id": "StmHg4h-WXly",
        "outputId": "17b09fb6-503b-40e3-8d82-ae66bd44e985"
      },
      "source": [
        "RM2010.map(lambda x: float(x[3]) * 0.093).mean(), RM2009.map(lambda x: float(x[3]) * 0.093).mean(), RM2008.map(lambda x: float(x[3]) * 0.093).mean(), RM2007.map(lambda x: float(x[3]) * 0.093).mean(), RM2006.map(lambda x: float(x[3]) * 0.093).mean()"
      ],
      "execution_count": null,
      "outputs": [
        {
          "output_type": "execute_result",
          "data": {
            "text/plain": [
              "(586.7161551724139,\n",
              " 553.1329999999998,\n",
              " 624.3203414634144,\n",
              " 626.1014526315793,\n",
              " 575.6143823529411)"
            ]
          },
          "metadata": {
            "tags": []
          },
          "execution_count": 67
        }
      ]
    },
    {
      "cell_type": "markdown",
      "metadata": {
        "id": "wBI951KxVUiY"
      },
      "source": [
        "Media anual de metros cuadrados para la zona de alta densidad (RH) en orden desde los años 2010 a 2006:"
      ]
    },
    {
      "cell_type": "code",
      "metadata": {
        "colab": {
          "base_uri": "https://localhost:8080/"
        },
        "id": "HY2euPl8VLsG",
        "outputId": "ed382cd0-370c-424d-c727-dfe448ce5020"
      },
      "source": [
        "RH2010.map(lambda x: float(x[3]) * 0.093).mean(), RH2009.map(lambda x: float(x[3]) * 0.093).mean(), RH2008.map(lambda x: float(x[3]) * 0.093).mean(), RH2007.map(lambda x: float(x[3]) * 0.093).mean(), RH2006.map(lambda x: float(x[3]) * 0.093).mean()"
      ],
      "execution_count": null,
      "outputs": [
        {
          "output_type": "execute_result",
          "data": {
            "text/plain": [
              "(753.8208, 647.8194, 766.94, 651.99975, 660.2535)"
            ]
          },
          "metadata": {
            "tags": []
          },
          "execution_count": 68
        }
      ]
    },
    {
      "cell_type": "markdown",
      "metadata": {
        "id": "BMmfV7xDu4Og"
      },
      "source": [
        "## ¿Podrías decirme el total de recaudación de las casas de revistimiento (Mas Vnr Type) de piedra con respecto a las de ladrillo? ¿Hay diferencia significativa?"
      ]
    },
    {
      "cell_type": "markdown",
      "metadata": {
        "id": "YrYM2p0LSf3D"
      },
      "source": [
        "Para contestar, será necesario extraer por separado las casas de piedra y de ladrillo. Tras ello, extraer el sumatorio para comparar qué casas recaudan más. Primero, se extraen las casa de cada tipo de revestimiento."
      ]
    },
    {
      "cell_type": "code",
      "metadata": {
        "id": "4lIeo_vrInSi"
      },
      "source": [
        "piedra = viviendas_final.filter(lambda x: x[9] == 'Stone')\n",
        "ladrillo = viviendas_final.filter(lambda x: x[9] in ('BrkFace', 'BrkCmn'))"
      ],
      "execution_count": null,
      "outputs": []
    },
    {
      "cell_type": "markdown",
      "metadata": {
        "id": "MduUo81mTnv3"
      },
      "source": [
        "A continuación, para cada tipo se selecciona el precio de venta."
      ]
    },
    {
      "cell_type": "code",
      "metadata": {
        "id": "IVEUY0zmPdqI"
      },
      "source": [
        "piedra = piedra.map(lambda x: (x[28]))\n",
        "piedra=piedra.filter(lambda x_int: x_int.isdigit())\n",
        "piedra=piedra.map(lambda x: int(x))\n",
        "\n",
        "ladrillo = ladrillo.map(lambda x: (x[28]))\n",
        "ladrillo=ladrillo.filter(lambda x_int: x_int.isdigit())\n",
        "ladrillo=ladrillo.map(lambda x: int(x))"
      ],
      "execution_count": null,
      "outputs": []
    },
    {
      "cell_type": "markdown",
      "metadata": {
        "id": "_jCFBAwLUh7J"
      },
      "source": [
        "Se cuenta el número de casas de cada tipo. Son mayoría las de ladrillo."
      ]
    },
    {
      "cell_type": "code",
      "metadata": {
        "colab": {
          "base_uri": "https://localhost:8080/"
        },
        "id": "5fJOE4x6Ujkv",
        "outputId": "5e8aaba6-a7ca-4a64-9559-43f54c9ba403"
      },
      "source": [
        "piedra.count(), ladrillo.count()"
      ],
      "execution_count": null,
      "outputs": [
        {
          "output_type": "execute_result",
          "data": {
            "text/plain": [
              "(230, 875)"
            ]
          },
          "metadata": {
            "tags": []
          },
          "execution_count": 71
        }
      ]
    },
    {
      "cell_type": "markdown",
      "metadata": {
        "id": "loqmA6eVTsQX"
      },
      "source": [
        "Y se le aplica la suma para obtener el total de recaudación. Como se puede observar, es superior el dato de las de ladrillo. Parece sí ser una diferencia significativa."
      ]
    },
    {
      "cell_type": "code",
      "metadata": {
        "colab": {
          "base_uri": "https://localhost:8080/"
        },
        "id": "Pf21smOBPkqK",
        "outputId": "5539909a-6a5e-4cc2-fda3-3be5d131fcaa"
      },
      "source": [
        "piedra.sum(), ladrillo.sum()"
      ],
      "execution_count": null,
      "outputs": [
        {
          "output_type": "execute_result",
          "data": {
            "text/plain": [
              "(60495477, 182918036)"
            ]
          },
          "metadata": {
            "tags": []
          },
          "execution_count": 72
        }
      ]
    },
    {
      "cell_type": "markdown",
      "metadata": {
        "id": "hR8q9hv5aOyg"
      },
      "source": [
        "Sin embargo, hacemos la media también para ver si esa diferencia es producida por el número de casas de cada tipo."
      ]
    },
    {
      "cell_type": "code",
      "metadata": {
        "colab": {
          "base_uri": "https://localhost:8080/"
        },
        "id": "qpFMdDZ4aVJg",
        "outputId": "096427ff-c561-4020-8f00-50ad0fb25c2d"
      },
      "source": [
        "piedra.mean(), ladrillo.mean()"
      ],
      "execution_count": null,
      "outputs": [
        {
          "output_type": "execute_result",
          "data": {
            "text/plain": [
              "(263023.81304347835, 209049.184)"
            ]
          },
          "metadata": {
            "tags": []
          },
          "execution_count": 73
        }
      ]
    },
    {
      "cell_type": "markdown",
      "metadata": {
        "id": "SPkMQBw9acs1"
      },
      "source": [
        "Efectivamente, la diferencia es producida por el número más elevado de casas de ladrillo. Las casas de ladrillo recaudan más en total, pero la media del precio es más alta para las de piedra."
      ]
    },
    {
      "cell_type": "markdown",
      "metadata": {
        "id": "ysWewnZcu4Og"
      },
      "source": [
        "## ¿Cuánto son más caras las viviendas con 2 cocinas, con 2 o más plazas de garaje que las que tienen 1 cocina y 1 plaza de garaje? Comparar medias y cuartiles de ambos casos"
      ]
    },
    {
      "cell_type": "markdown",
      "metadata": {
        "id": "WpWVqqQ-VE80"
      },
      "source": [
        "La idea extraída es comparar el precio de venta de ambos tipos de viviendas entre sí. Por un lado, se filtran aquellas viviendas que tengan 2 cocinas y 2 o más plazas de garaje. Se ha observado que el mayor número de plazas de garaje existente es de 5."
      ]
    },
    {
      "cell_type": "code",
      "metadata": {
        "id": "7WBg30PHLyht"
      },
      "source": [
        "primer_data = viviendas_final.filter(lambda x: x[18] == '2' and x [21] in ('2', '3', '4', '5'))\n",
        "primer_data = primer_data.map(lambda x: (x[28]))\n",
        "primer_data=primer_data.filter(lambda x_int: x_int.isdigit())\n",
        "primer_data=primer_data.map(lambda x: int(x))"
      ],
      "execution_count": null,
      "outputs": []
    },
    {
      "cell_type": "markdown",
      "metadata": {
        "id": "p0sVAwM_VqWA"
      },
      "source": [
        "Ahora se extraen las viviendas con las que se pretende comparar las primeras. Serán aquellas casas que tengan una cocina y 1 plaza de garaje únicamente."
      ]
    },
    {
      "cell_type": "code",
      "metadata": {
        "id": "GlWV1lcgKGbp"
      },
      "source": [
        "segundo_data = viviendas_final.filter(lambda x: x[18] == '1' and x [21] == '1')\n",
        "segundo_data = segundo_data.map(lambda x: (x[28]))\n",
        "segundo_data=segundo_data.filter(lambda x_int: x_int.isdigit())\n",
        "segundo_data=segundo_data.map(lambda x: int(x))"
      ],
      "execution_count": null,
      "outputs": []
    },
    {
      "cell_type": "markdown",
      "metadata": {
        "id": "sh4PVrTUV3zg"
      },
      "source": [
        "Se desea conocer cuántas viviendas están en cada uno de los dos grupos. Por las características, parece lógico que el segundo grupo de viviendas sea mayoritaria."
      ]
    },
    {
      "cell_type": "code",
      "metadata": {
        "colab": {
          "base_uri": "https://localhost:8080/"
        },
        "id": "Iyp_FFC6Va6t",
        "outputId": "e6d79d52-4787-4665-880c-c1411064ea26"
      },
      "source": [
        "primer_data.count(), segundo_data.count()"
      ],
      "execution_count": null,
      "outputs": [
        {
          "output_type": "execute_result",
          "data": {
            "text/plain": [
              "(86, 755)"
            ]
          },
          "metadata": {
            "tags": []
          },
          "execution_count": 81
        }
      ]
    },
    {
      "cell_type": "markdown",
      "metadata": {
        "id": "9NwDmRXvWSWx"
      },
      "source": [
        "En el precio medio, lógicamente también, el primer grupo parece más caro."
      ]
    },
    {
      "cell_type": "code",
      "metadata": {
        "colab": {
          "base_uri": "https://localhost:8080/"
        },
        "id": "12SqChPwMkRz",
        "outputId": "38774e85-ebbf-4f85-d3a7-f0557d72e70b"
      },
      "source": [
        "primer_data.mean(), segundo_data.mean()"
      ],
      "execution_count": null,
      "outputs": [
        {
          "output_type": "execute_result",
          "data": {
            "text/plain": [
              "(145124.27906976745, 128121.99337748351)"
            ]
          },
          "metadata": {
            "tags": []
          },
          "execution_count": 82
        }
      ]
    },
    {
      "cell_type": "markdown",
      "metadata": {
        "id": "JrBkT4J6WaoO"
      },
      "source": [
        "Y en el primer grupo, también parece haber más dispersión en el precio."
      ]
    },
    {
      "cell_type": "code",
      "metadata": {
        "colab": {
          "base_uri": "https://localhost:8080/"
        },
        "id": "pg_qGzPhOJjl",
        "outputId": "c7affc8f-8e7a-48e4-e155-79c66634c14f"
      },
      "source": [
        "primer_data.stdev(), segundo_data.stdev()"
      ],
      "execution_count": null,
      "outputs": [
        {
          "output_type": "execute_result",
          "data": {
            "text/plain": [
              "(40319.38889396249, 30283.73797627781)"
            ]
          },
          "metadata": {
            "tags": []
          },
          "execution_count": 83
        }
      ]
    },
    {
      "cell_type": "markdown",
      "metadata": {
        "id": "Fkpx0NGxu4Og"
      },
      "source": [
        "## (COMPLEMENTARIA) Estudiar la relación entre el precio y el número de Garajes. (Recomiendo segmentar precio por cuartiles y estudiar el número de casos coincidentes)"
      ]
    },
    {
      "cell_type": "markdown",
      "metadata": {
        "id": "GMtKDJsfrb6d"
      },
      "source": [
        "Se va a proceder a extraer las viviendas de cada número de plazas de garaje y comparar las medias de los precios, para ver si existen diferencias reseñables entre unos grupos y otros.\r\n",
        "\r\n",
        "En primer lugar, se observan los posibles valores del número de garajes existentes en el dataset. Como se puede observar, van de 0 a 5."
      ]
    },
    {
      "cell_type": "code",
      "metadata": {
        "colab": {
          "base_uri": "https://localhost:8080/"
        },
        "id": "zDAaNqmCmTSg",
        "outputId": "5474eb2e-2a93-4b4c-a1d0-ceb6e8c5666a"
      },
      "source": [
        "plazas_garaje = viviendas_final.map(lambda x: (x[21]))\r\n",
        "plazas_garaje.distinct().take(10)"
      ],
      "execution_count": 73,
      "outputs": [
        {
          "output_type": "execute_result",
          "data": {
            "text/plain": [
              "['4', '', '3', '0', '2', '1', '5']"
            ]
          },
          "metadata": {
            "tags": []
          },
          "execution_count": 73
        }
      ]
    },
    {
      "cell_type": "markdown",
      "metadata": {
        "id": "uYdZIce2sLN8"
      },
      "source": [
        "Se realizan filtros para generar cada uno de los grupos y se selecciona la variable del precio de venta, pues será la que se comparará posteriomente."
      ]
    },
    {
      "cell_type": "code",
      "metadata": {
        "id": "61gTxt1gnB3C"
      },
      "source": [
        "cero = viviendas_final.filter(lambda x: (x[21] == \"0\")).map(lambda x: (int(x[28])))\r\n",
        "uno = viviendas_final.filter(lambda x: (x[21]== \"1\")).map(lambda x: (int(x[28])))\r\n",
        "dos = viviendas_final.filter(lambda x: (x[21]== \"2\")).map(lambda x: (int(x[28])))\r\n",
        "tres = viviendas_final.filter(lambda x: (x[21]== \"3\")).map(lambda x: (int(x[28])))\r\n",
        "cuatro = viviendas_final.filter(lambda x: (x[21]== \"4\")).map(lambda x: (int(x[28])))\r\n",
        "cinco = viviendas_final.filter(lambda x: (x[21]== \"5\")).map(lambda x: (int(x[28])))"
      ],
      "execution_count": 96,
      "outputs": []
    },
    {
      "cell_type": "markdown",
      "metadata": {
        "id": "PpccbQNIsSi1"
      },
      "source": [
        "Se observa el número de viviendas por grupo. La más común, con diferencia, es la que cuenta con dos plazas. De cinco plazas, solo hay una."
      ]
    },
    {
      "cell_type": "code",
      "metadata": {
        "colab": {
          "base_uri": "https://localhost:8080/"
        },
        "id": "xI_kc-ZqprIU",
        "outputId": "2c6f48f3-f3a0-46d8-92dc-edcbaf1de1b4"
      },
      "source": [
        "cero.count(), uno.count(), dos.count(), tres.count(), cuatro.count(), cinco.count()"
      ],
      "execution_count": 100,
      "outputs": [
        {
          "output_type": "execute_result",
          "data": {
            "text/plain": [
              "(147, 764, 1481, 358, 16, 1)"
            ]
          },
          "metadata": {
            "tags": []
          },
          "execution_count": 100
        }
      ]
    },
    {
      "cell_type": "markdown",
      "metadata": {
        "id": "U72D1qanscA-"
      },
      "source": [
        "Se pasa a comparar la media del precio de cada grupo. El que cuenta con el dato más elevado es el de tres plazas, seguido por el de cuatro. Las más baratas son las que no cuentan con garaje. "
      ]
    },
    {
      "cell_type": "code",
      "metadata": {
        "colab": {
          "base_uri": "https://localhost:8080/"
        },
        "id": "WklyzEK3pC17",
        "outputId": "48c7ecee-83de-4791-cc0c-74bf68bf756f"
      },
      "source": [
        "cero.mean(), uno.mean(), dos.mean(), tres.mean(), cuatro.mean(), cinco.mean()"
      ],
      "execution_count": 101,
      "outputs": [
        {
          "output_type": "execute_result",
          "data": {
            "text/plain": [
              "(107023.63945578231,\n",
              " 128011.65575916233,\n",
              " 181890.09318028364,\n",
              " 311831.4888268157,\n",
              " 228748.6875,\n",
              " 126500.0)"
            ]
          },
          "metadata": {
            "tags": []
          },
          "execution_count": 101
        }
      ]
    },
    {
      "cell_type": "markdown",
      "metadata": {
        "id": "wwEd1BpAu4Oh"
      },
      "source": [
        "## (COMPLEMENTARIA) Las 10 viviendas con mejores servicios y mejor precio."
      ]
    },
    {
      "cell_type": "markdown",
      "metadata": {
        "id": "_NYUM7Fcp7T2"
      },
      "source": [
        "Se ha tratado de seleccionar aquellas viviendas que contaban con servicios calificados como excelentes en las diferentes variables que hacían referencia a aspectos de la casa. Algunas de esas variable se han excluído, dado que muchas de las casas no contaban con piscina o plaza de garaje, por ejemplo. Finalmente, se han seleccionado aquellas viviendas que cuentan con servicios excelentes en la valoración general, en el revestimiento, en la calefacción, y en la cocina.\r\n",
        "\r\n",
        "Se han realizado varios filtros para seleccionar las viviendas que tuvieran una calificación de excelente en todos esos parámetros. Posteriormente, se ha seleccionado el precio de esas viviendas y su fecha de construcción.\r\n",
        "\r\n",
        "Finalmente, se han ordenado las diez primeras en orden ascendente para ver cuáles son las viviendas con mejor precio (entendido como más baratas) y que cuentan con los servicios anteriormente enunciados como excelentes."
      ]
    },
    {
      "cell_type": "code",
      "metadata": {
        "colab": {
          "base_uri": "https://localhost:8080/"
        },
        "id": "0BkwGj9eeTEV",
        "outputId": "594f632a-1027-45c5-fa8c-f326b356a6f3"
      },
      "source": [
        "overall = viviendas_final.filter(lambda x: (x[6] == '10'))\r\n",
        "mejores = overall.filter(lambda x: (x[10]== \"Ex\"))\r\n",
        "mejores = mejores.filter(lambda x: (x[13]== \"Ex\"))\r\n",
        "mejores = mejores.filter(lambda x: (x[19]== \"Ex\"))\r\n",
        "\r\n",
        "mejores = mejores.map(lambda x: (float(x[28]), x[7]))\r\n",
        "\r\n",
        "mejores.takeOrdered(10, key = lambda x: x[0])"
      ],
      "execution_count": 105,
      "outputs": [
        {
          "output_type": "execute_result",
          "data": {
            "text/plain": [
              "[(160000.0, '2008'),\n",
              " (183850.0, '2008'),\n",
              " (184750.0, '2007'),\n",
              " (337500.0, '2006'),\n",
              " (385000.0, '2007'),\n",
              " (386250.0, '2003'),\n",
              " (392000.0, '2006'),\n",
              " (402861.0, '2009'),\n",
              " (419005.0, '2007'),\n",
              " (426000.0, '2007')]"
            ]
          },
          "metadata": {
            "tags": []
          },
          "execution_count": 105
        }
      ]
    },
    {
      "cell_type": "markdown",
      "metadata": {
        "id": "u1S-VGINu4Oh"
      },
      "source": [
        "### Pista:\n",
        "#### Calcula las variables: \n",
        "- Número de servicios excelentes\n",
        "- Número de servicios buenos\n",
        "...\n",
        "\n",
        "#### Tendréis que tener en cuenta también variables como número de baños Full Bath, cocinas Kitchen AbvGr o dormitorios Bedroom AbvGr. Generando por ejemplo (número de estas variables por encima de media)\n",
        "\n",
        "#### Finalmente precio de venta"
      ]
    }
  ]
}